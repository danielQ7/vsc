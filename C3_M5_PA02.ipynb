{
 "cells": [
  {
   "cell_type": "markdown",
   "id": "3bccbe8e",
   "metadata": {
    "deletable": false,
    "editable": false,
    "nbgrader": {
     "cell_type": "markdown",
     "checksum": "a8dbfd45efe5ca37ebd25c163a210ec2",
     "grade": false,
     "grade_id": "cell-4aebe3e0cf28e4ab",
     "locked": true,
     "schema_version": 3,
     "solution": false,
     "task": false
    }
   },
   "source": [
    "# Automation and scripting with Python\n",
    "In this lab, you will deepen your understanding of Python automation and scripting by integrating with an external API, automating data analysis and visualization tasks, and utilizing version control (Git) for efficient project management."
   ]
  },
  {
   "cell_type": "markdown",
   "id": "6170975a",
   "metadata": {
    "deletable": false,
    "editable": false,
    "nbgrader": {
     "cell_type": "markdown",
     "checksum": "e2c0cf0141b293c829f98bc443842ca5",
     "grade": false,
     "grade_id": "cell-ad57e5c35bf64539",
     "locked": true,
     "schema_version": 3,
     "solution": false,
     "task": false
    }
   },
   "source": [
    "### Tips for completing this lab\n",
    "As you navigate this lab, keep the following tips in mind:\n",
    "- `### YOUR CODE HERE ###` indicates where you should write code. Be sure to replace this with your own code before running the code cell.\n",
    "- Feel free to open the hints for additional guidance as you work on each task.\n",
    "- You can save your work manually by clicking the save button (floppy disk icon) on the menu bar at the top of the notebook.\n",
    "- You can also download your work locally by clicking File and then 'Download as' on the menu bar at the top of the notebook, and then specifying your preferred file format (e.g. Notebook (.ipynb)).\n"
   ]
  },
  {
   "cell_type": "markdown",
   "id": "06cb618c",
   "metadata": {
    "deletable": false,
    "editable": false,
    "nbgrader": {
     "cell_type": "markdown",
     "checksum": "0aecd4d52711a4939f33b557fff83741",
     "grade": false,
     "grade_id": "cell-ed5922e39d56a369",
     "locked": true,
     "schema_version": 3,
     "solution": false,
     "task": false
    }
   },
   "source": [
    "## Scenario\n",
    "You are a Python developer tasked with gathering sports betting and baseball statistics. You will load a CSV file to a DataFrame, perform some analysis, and generate visualizations, as you have done in previous material. After the data is processed, you will set up SendGrid to send an email to your supervisor (using the sample code you've obtained from the SendGrid documentation). This is designed to send an alert once your analysis is done. You will add your API key and configure the message. \n",
    "\n",
    "You will add scheduling to a program so that the analysis is run every day and the automated email will be sent after completion of the analysis, and you will use file operations to save your DataFrame, ensuring you do not overwrite the previous set of data. As you do this, you will add logging messages where appropriate.\n",
    "\n",
    "As you progress through this lab, you will use Git to manage your project and commit regularly."
   ]
  },
  {
   "cell_type": "markdown",
   "id": "f913f391",
   "metadata": {
    "deletable": false,
    "editable": false,
    "nbgrader": {
     "cell_type": "markdown",
     "checksum": "5eb48f2e81431785e1462845c94be072",
     "grade": false,
     "grade_id": "cell-53b3edf6c53e7bc4",
     "locked": true,
     "schema_version": 3,
     "solution": false,
     "task": false
    }
   },
   "source": [
    "## High-Level Tasks\n",
    "1. **Set up Version Control** using Git.\n",
    "2. **Data Handling and Preprocessing** of the sports dataset.\n",
    "3. **Visualization Building and Evaluation** with Python libraries.\n",
    "4. **API Integration and Error Handling** to set up alert emails and handle cases where the API integration fails.\n",
    "5. **Scheduling** to automate sending an email on a schedule.\n",
    "6. **File Operations  Logging** to save and rename files, and logging info-level messages."
   ]
  },
  {
   "cell_type": "markdown",
   "id": "deb15561",
   "metadata": {
    "deletable": false,
    "editable": false,
    "nbgrader": {
     "cell_type": "markdown",
     "checksum": "c17e91112f0db1959f3ae5dbc16ca08e",
     "grade": false,
     "grade_id": "cell-33b0ee0f1dbacc71",
     "locked": true,
     "schema_version": 3,
     "solution": false,
     "task": false
    }
   },
   "source": [
    "### 1. Set Up Version Control\n",
    "#### Step 1.1: Initialize Git\n",
    "Initialize a local Git repository for this project where you can store versions of this notebook. This will allow you to track your progress, make commits, and revert changes when needed. \n",
    "\n",
    "You can download your work locally by clicking File and then 'Download as' on the menu bar at the top of the notebook, and then specifying your preferred file format (e.g. Notebook (.ipynb)).\n",
    "\n",
    "If you have not already done so, you may also need to set up your Git environment by running:\n",
    "\n",
    "`git config --global user.email \"you@example.com\"`\n",
    "\n",
    "`git config --global user.name \"Your Name\"`"
   ]
  },
  {
   "cell_type": "code",
   "execution_count": 13,
   "id": "647f3402",
   "metadata": {
    "scrolled": true
   },
   "outputs": [
    {
     "name": "stderr",
     "output_type": "stream",
     "text": [
      "bash: line 6: cd: /c/Users/quiñonez/Desktop/vsc: No such file or directory\n"
     ]
    },
    {
     "name": "stdout",
     "output_type": "stream",
     "text": [
      "¡Directorio no encontrado!\n"
     ]
    },
    {
     "ename": "CalledProcessError",
     "output_type": "error",
     "traceback": [
      "\u001b[0;31m---------------------------------------------------------------------------\u001b[0m",
      "\u001b[0;31mCalledProcessError\u001b[0m                        Traceback (most recent call last)",
      "File \u001b[0;32m/opt/conda/lib/python3.10/site-packages/IPython/core/interactiveshell.py:2517\u001b[0m, in \u001b[0;36mInteractiveShell.run_cell_magic\u001b[0;34m(self, magic_name, line, cell)\u001b[0m\n\u001b[1;32m   2515\u001b[0m \u001b[38;5;28;01mwith\u001b[39;00m \u001b[38;5;28mself\u001b[39m\u001b[38;5;241m.\u001b[39mbuiltin_trap:\n\u001b[1;32m   2516\u001b[0m     args \u001b[38;5;241m=\u001b[39m (magic_arg_s, cell)\n\u001b[0;32m-> 2517\u001b[0m     result \u001b[38;5;241m=\u001b[39m \u001b[43mfn\u001b[49m\u001b[43m(\u001b[49m\u001b[38;5;241;43m*\u001b[39;49m\u001b[43margs\u001b[49m\u001b[43m,\u001b[49m\u001b[43m \u001b[49m\u001b[38;5;241;43m*\u001b[39;49m\u001b[38;5;241;43m*\u001b[39;49m\u001b[43mkwargs\u001b[49m\u001b[43m)\u001b[49m\n\u001b[1;32m   2519\u001b[0m \u001b[38;5;66;03m# The code below prevents the output from being displayed\u001b[39;00m\n\u001b[1;32m   2520\u001b[0m \u001b[38;5;66;03m# when using magics with decorator @output_can_be_silenced\u001b[39;00m\n\u001b[1;32m   2521\u001b[0m \u001b[38;5;66;03m# when the last Python token in the expression is a ';'.\u001b[39;00m\n\u001b[1;32m   2522\u001b[0m \u001b[38;5;28;01mif\u001b[39;00m \u001b[38;5;28mgetattr\u001b[39m(fn, magic\u001b[38;5;241m.\u001b[39mMAGIC_OUTPUT_CAN_BE_SILENCED, \u001b[38;5;28;01mFalse\u001b[39;00m):\n",
      "File \u001b[0;32m/opt/conda/lib/python3.10/site-packages/IPython/core/magics/script.py:154\u001b[0m, in \u001b[0;36mScriptMagics._make_script_magic.<locals>.named_script_magic\u001b[0;34m(line, cell)\u001b[0m\n\u001b[1;32m    152\u001b[0m \u001b[38;5;28;01melse\u001b[39;00m:\n\u001b[1;32m    153\u001b[0m     line \u001b[38;5;241m=\u001b[39m script\n\u001b[0;32m--> 154\u001b[0m \u001b[38;5;28;01mreturn\u001b[39;00m \u001b[38;5;28;43mself\u001b[39;49m\u001b[38;5;241;43m.\u001b[39;49m\u001b[43mshebang\u001b[49m\u001b[43m(\u001b[49m\u001b[43mline\u001b[49m\u001b[43m,\u001b[49m\u001b[43m \u001b[49m\u001b[43mcell\u001b[49m\u001b[43m)\u001b[49m\n",
      "File \u001b[0;32m/opt/conda/lib/python3.10/site-packages/IPython/core/magics/script.py:314\u001b[0m, in \u001b[0;36mScriptMagics.shebang\u001b[0;34m(self, line, cell)\u001b[0m\n\u001b[1;32m    309\u001b[0m \u001b[38;5;28;01mif\u001b[39;00m args\u001b[38;5;241m.\u001b[39mraise_error \u001b[38;5;129;01mand\u001b[39;00m p\u001b[38;5;241m.\u001b[39mreturncode \u001b[38;5;241m!=\u001b[39m \u001b[38;5;241m0\u001b[39m:\n\u001b[1;32m    310\u001b[0m     \u001b[38;5;66;03m# If we get here and p.returncode is still None, we must have\u001b[39;00m\n\u001b[1;32m    311\u001b[0m     \u001b[38;5;66;03m# killed it but not yet seen its return code. We don't wait for it,\u001b[39;00m\n\u001b[1;32m    312\u001b[0m     \u001b[38;5;66;03m# in case it's stuck in uninterruptible sleep. -9 = SIGKILL\u001b[39;00m\n\u001b[1;32m    313\u001b[0m     rc \u001b[38;5;241m=\u001b[39m p\u001b[38;5;241m.\u001b[39mreturncode \u001b[38;5;129;01mor\u001b[39;00m \u001b[38;5;241m-\u001b[39m\u001b[38;5;241m9\u001b[39m\n\u001b[0;32m--> 314\u001b[0m     \u001b[38;5;28;01mraise\u001b[39;00m CalledProcessError(rc, cell)\n",
     ]
    }
   ],
   "source": [
    "%%bash\n",
    "# ┌───────────────────────────────────────────────────────────────────┐\n",
    "# │   Inicializar y subir tu notebook limpio a GitHub desde Jupyter  │\n",
    "# └───────────────────────────────────────────────────────────────────┘\n",
    "\n",
    "# 1) Cambia al directorio de tu proyecto (ajusta si hace falta)\n",
    "cd \"/c/Users/quiñonez/Desktop/vsc\" || { echo \"¡Directorio no encontrado!\"; exit 1; }\n",
    "\n",
    "# 2) Borra cualquier repo Git previo para empezar de cero\n",
    "rm -rf .git\n",
    "\n",
    "# 3) Inicializa un nuevo repositorio y configura tu identidad\n",
    "git init\n",
    "git config --global user.email \"daniekluka07@gmail.com\"\n",
    "git config --global user.name \"danielQ7\"\n",
    "\n",
    "# 4) Elimina las líneas que contienen tu PAT o API Key para no violar las reglas de GitHub\n",
    "#    (Reemplaza C3_M5_PA02.ipynb por el nombre real de tu archivo)\n",
    "\n",
    "# 5) Añade tus notebooks y haz el primer commit\n",
    "git add *.ipynb\n",
    "git commit -m \"Primer commit: notebook inicial (sin secretos)\"\n",
    "\n",
    "# 6) Conecta con tu repositorio remoto\n",
    "#    Usamos la forma https://usuario@… para no exponer el PAT en el historial,\n",
    "#    y luego se solicitará el token cuando Git intente hacer push.\n",
    "git remote add origin https://danielQ7@github.com/danielQ7/vsc.git\n",
    "\n",
    "# 7) Renombra la rama principal a 'main' y empuja tus cambios\n",
    "git branch -M main\n",
    "git push -u origin main\n",
    "\n",
    "# ------------------------------------------------------------\n",
    "# Proyecto de GitHub Projects: https://github.com/users/danielQ7/projects/1\n",
    "```"
   ]
  },
  {
   "cell_type": "markdown",
   "id": "76f810b2",
   "metadata": {
    "deletable": false,
    "editable": false,
    "nbgrader": {
     "cell_type": "markdown",
     "checksum": "08dfd826f521258c104044c36331b010",
     "grade": false,
     "grade_id": "cell-214d21cbe49c2ec9",
     "locked": true,
     "schema_version": 3,
     "solution": false,
     "task": false
    }
   },
   "source": [
    "#### Step 1.2: Make Regular Commits\n",
    "Ensure that you commit your changes regularly using descriptive commit messages."
   ]
  },
  {
   "cell_type": "code",
   "execution_count": 2,
   "id": "1aa7dda3",
   "metadata": {},
   "outputs": [
    {
     "name": "stdout",
     "output_type": "stream",
     "text": [
      "[main b098e77] Added data handling and preprocessing steps\n",
      " 1 file changed, 231 insertions(+), 131 deletions(-)\n"
     ]
    }
   ],
   "source": [
    "%%bash\n",
    "# Example of a commit after completing a section\n",
    "git commit -am \"Added data handling and preprocessing steps\""
   ]
  },
  {
   "cell_type": "markdown",
   "id": "f511b69f",
   "metadata": {
    "deletable": false,
    "editable": false,
    "nbgrader": {
     "cell_type": "markdown",
     "checksum": "92f7c2041ad205a70365b87faf208ebb",
     "grade": false,
     "grade_id": "cell-944a167366032c83",
     "locked": true,
     "schema_version": 3,
     "solution": false,
     "task": false
    }
   },
   "source": [
    "### 2. Data Handling and Preprocessing\n",
    "#### Step 2.1: Load the Dataset\n",
    "Load the provided sports dataset **sports_data_missing.csv** into a pandas DataFrame and inspect it to understand the structure, missing values, and any inconsistencies."
   ]
  },
  {
   "cell_type": "code",
   "execution_count": 3,
   "id": "736afeae",
   "metadata": {},
   "outputs": [
    {
     "name": "stdout",
     "output_type": "stream",
     "text": [
      "First 5 rows:\n",
      "               Name      G     AB      H   RBI  Singles  Doubles  Triples  \\\n",
      "0  Stacey Davenport  122.0  400.0  137.0  60.0     90.0     27.0      5.0   \n",
      "1     Julie Mahoney  101.0  550.0  218.0  70.0    154.0     31.0     13.0   \n",
      "2       Amber David  156.0  520.0  146.0  85.0    109.0     20.0      2.0   \n",
      "3   Patricia Moreno  157.0  380.0  126.0  55.0     66.0     34.0     16.0   \n",
      "4      Chris Morris  124.0  450.0  173.0  65.0    111.0     40.0     15.0   \n",
      "\n",
      "     HR     SO    BB  \n",
      "0  15.0   70.0  35.0  \n",
      "1  20.0  110.0  45.0  \n",
      "2  15.0    0.0  40.0  \n",
      "3  10.0   75.0  30.0  \n",
      "4   7.0   90.0  25.0  \n",
      "\n",
      "Info:\n",
      "<class 'pandas.core.frame.DataFrame'>\n",
      "RangeIndex: 35 entries, 0 to 34\n",
      "Data columns (total 11 columns):\n",
      " #   Column   Non-Null Count  Dtype  \n",
      "---  ------   --------------  -----  \n",
      " 0   Name     35 non-null     object \n",
      " 1   G        34 non-null     float64\n",
      " 2   AB       34 non-null     float64\n",
      " 3   H        34 non-null     float64\n",
      " 4   RBI      34 non-null     float64\n",
      " 5   Singles  34 non-null     float64\n",
      " 6   Doubles  34 non-null     float64\n",
      " 7   Triples  34 non-null     float64\n",
      " 8   HR       34 non-null     float64\n",
      " 9   SO       34 non-null     float64\n",
      " 10  BB       34 non-null     float64\n",
      "dtypes: float64(10), object(1)\n",
      "memory usage: 3.1+ KB\n",
      "None\n",
      "\n",
      "Describe (all columns):\n",
      "                    Name           G          AB           H         RBI  \\\n",
      "count                 35   34.000000   34.000000   34.000000   34.000000   \n",
      "unique                35         NaN         NaN         NaN         NaN   \n",
      "top     Stacey Davenport         NaN         NaN         NaN         NaN   \n",
      "freq                   1         NaN         NaN         NaN         NaN   \n",
      "mean                 NaN  125.941176  452.647059  145.764706   67.441176   \n",
      "std                  NaN   28.459372  114.423690   49.052884   20.632706   \n",
      "min                  NaN    0.000000    0.000000    0.000000    0.000000   \n",
      "25%                  NaN  115.000000  400.000000  114.500000   60.000000   \n",
      "50%                  NaN  125.500000  450.000000  143.000000   67.500000   \n",
      "75%                  NaN  143.750000  520.000000  171.250000   75.750000   \n",
      "max                  NaN  161.000000  600.000000  237.000000  121.000000   \n",
      "\n",
      "           Singles    Doubles    Triples         HR          SO          BB  \n",
      "count    34.000000  34.000000  34.000000  34.000000   34.000000   34.000000  \n",
      "unique         NaN        NaN        NaN        NaN         NaN         NaN  \n",
      "top            NaN        NaN        NaN        NaN         NaN         NaN  \n",
      "freq           NaN        NaN        NaN        NaN         NaN         NaN  \n",
      "mean     90.500000  29.764706   9.352941  16.147059   75.647059   34.500000  \n",
      "std      38.504034  10.756418   5.762377  12.053246   37.733421   22.661207  \n",
      "min       0.000000   0.000000   0.000000   0.000000    0.000000    0.000000  \n",
      "25%      65.000000  23.000000   5.000000   8.250000   70.000000   28.250000  \n",
      "50%      87.000000  32.000000   8.000000  12.000000   87.500000   31.500000  \n",
      "75%     110.500000  39.000000  13.750000  21.000000  103.750000   39.250000  \n",
      "max     170.000000  44.000000  20.000000  50.000000  120.000000  100.000000  \n",
      "\n",
      "Missing values by column:\n",
      "Name       0\n",
      "G          1\n",
      "AB         1\n",
      "H          1\n",
      "RBI        1\n",
      "Singles    1\n",
      "Doubles    1\n",
      "Triples    1\n",
      "HR         1\n",
      "SO         1\n",
      "BB         1\n",
      "dtype: int64\n"
     ]
    }
   ],
   "source": [
    "import pandas as pd\n",
    "\n",
    "# 1) Load the data\n",
    "df = pd.read_csv(\"sports_data_missing.csv\")\n",
    "\n",
    "# 2) Quick peek at the first rows\n",
    "print(\"First 5 rows:\")\n",
    "print(df.head(), end=\"\\n\\n\")\n",
    "\n",
    "# 3) DataFrame structure and dtypes\n",
    "print(\"Info:\")\n",
    "print(df.info(), end=\"\\n\\n\")\n",
    "\n",
    "# 4) Summary statistics (numeric and object)\n",
    "print(\"Describe (all columns):\")\n",
    "print(df.describe(include=\"all\"), end=\"\\n\\n\")\n",
    "\n",
    "# 5) Count of missing values per column\n",
    "print(\"Missing values by column:\")\n",
    "print(df.isnull().sum())\n"
   ]
  },
  {
   "cell_type": "markdown",
   "id": "9eb18db0",
   "metadata": {
    "deletable": false,
    "editable": false,
    "nbgrader": {
     "cell_type": "markdown",
     "checksum": "3252feb860af01664743c01e150f35b1",
     "grade": false,
     "grade_id": "cell-27e6a9ab022a3acf",
     "locked": true,
     "schema_version": 3,
     "solution": false,
     "task": false
    }
   },
   "source": [
    "#### Step 2.2: Clean and Preprocess the Data\n",
    "Check for missing or invalid values, and clean the dataset as needed (e.g., fill missing values, handle data inconsistencies). In this case, drop any columns with invalid data."
   ]
  },
  {
   "cell_type": "code",
   "execution_count": 4,
   "id": "36d16dc3",
   "metadata": {},
   "outputs": [
    {
     "name": "stdout",
     "output_type": "stream",
     "text": [
      "Missing values per column:\n",
      " Name       0\n",
      "G          1\n",
      "AB         1\n",
      "H          1\n",
      "RBI        1\n",
      "Singles    1\n",
      "Doubles    1\n",
      "Triples    1\n",
      "HR         1\n",
      "SO         1\n",
      "BB         1\n",
      "dtype: int64 \n",
      "\n",
      "Dropping these columns: ['G', 'AB', 'H', 'RBI', 'Singles', 'Doubles', 'Triples', 'HR', 'SO', 'BB'] \n",
      "\n",
      "New shape: (35, 1)\n",
      "Any missing left?\n",
      " Name    0\n",
      "dtype: int64\n"
     ]
    }
   ],
   "source": [
    "# 1) Compute how many missing values each column has\n",
    "missing_counts = df.isnull().sum()\n",
    "print(\"Missing values per column:\\n\", missing_counts, \"\\n\")\n",
    "\n",
    "# 2) Identify columns with any missing or invalid entries\n",
    "#    (here “invalid” = null; you could extend this to catch out‐of‐range or malformed strings)\n",
    "cols_to_drop = missing_counts[missing_counts > 0].index.tolist()\n",
    "print(\"Dropping these columns:\", cols_to_drop, \"\\n\")\n",
    "\n",
    "# 3) Drop them from the DataFrame\n",
    "df_clean = df.drop(columns=cols_to_drop)\n",
    "\n",
    "# 4) Verify the result\n",
    "print(\"New shape:\", df_clean.shape)\n",
    "print(\"Any missing left?\\n\", df_clean.isnull().sum())\n"
   ]
  },
  {
   "cell_type": "markdown",
   "id": "28ebf859",
   "metadata": {
    "deletable": false,
    "editable": false,
    "nbgrader": {
     "cell_type": "markdown",
     "checksum": "25b04f137b2789164c7be6768bd6e334",
     "grade": false,
     "grade_id": "cell-27f21e5cbef560ac",
     "locked": true,
     "schema_version": 3,
     "solution": false,
     "task": false
    }
   },
   "source": [
    "### 3. Visualization Building and Evaluation\n",
    "#### Step 3.1: Create Functions for Visualizations\n",
    "Create a function to generate different visualizations based on the dataset. For example, scatter plots showing player statistics. Please note these abbreviations:\n",
    "- HR = Home Runs\n",
    "- BB = Walks (Base on Balls)\n",
    "- SO = Strikeouts\n",
    "- AB = At Bats\n",
    "\n",
    "Some common examples of baseball metrics are a comparison of how many strikeouts (SO) vs. walks (BB), and number of at bats (AB) vs. home runs (HR). Create two scatter plots, one showing the Walk vs. Strikeout Ratio, and the second showing Home Runs vs. At Bats ratio.\n",
    "\n",
    "Create a function called create_scatter_plot that accepts the dataframe, the x and y column names, and the chart title, and generates and displays a scatter plot."
   ]
  },
  {
   "cell_type": "code",
   "execution_count": 5,
   "id": "203df53e",
   "metadata": {},
   "outputs": [
    {
     "data": {
      "image/png": "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",
      "text/plain": [
       "<Figure size 1000x600 with 1 Axes>"
      ]
     },
     "metadata": {},
     "output_type": "display_data"
    },
    {
     "data": {
      "image/png": "iVBORw0KGgoAAAANSUhEUgAAA1IAAAIhCAYAAABE54vcAAAAOXRFWHRTb2Z0d2FyZQBNYXRwbG90bGliIHZlcnNpb24zLjYuMiwgaHR0cHM6Ly9tYXRwbG90bGliLm9yZy8o6BhiAAAACXBIWXMAAA9hAAAPYQGoP6dpAABOC0lEQVR4nO3de3xU9Z3/8feQzEwmIQkkgYRIgIDBG6AuN0G5KBCkXMqyLVos0kK7tCBtClSLtD+DSwOlW8TCitJFQBGxXUWhVJuwSpCNF4gFgbWgNaAIIeUaCMnMkJzfH2ymDJnAfCFkZsjr+XjkUeec78z5nsmnM3lzzvkcm2VZlgAAAAAAQWsW6gkAAAAAQKQhSAEAAACAIYIUAAAAABgiSAEAAACAIYIUAAAAABgiSAEAAACAIYIUAAAAABgiSAEAAACAIYIUAAAAABgiSAFo0lauXCmbzabt27cHXD9ixAh16NChcSfVQGw2m99PQkKC+vbtq5dffjnUU7usd999V06nUwcOHPAtGzhwoLp06RJw/NGjR2Wz2ZSbm+tbtnnzZr/9j4qKUqtWrTRy5MiAv+/x48dr9OjRDb0rV+3o0aNyOp2XrNO8vDy9/vrrQb/mxbURFxenW265RXPmzFFFRcUVzbOoqEi5ubk6efLkFT2/Pl6vVzfffLPmz58fcP1vf/tb2Wy2emtDMtvfcK0DAOGHIAUA17FvfOMbeu+991RUVKRnn31W5eXlGjdunNasWRPqqdXLsizl5OTo+9//vtq3b3/Vr5eXl6f33ntPmzdv1i9+8QsVFRVpwIAB+vTTT/3G5ebmauPGjXr77bevepsN6cUXX5TH45EkLV++POAY0yAl/aM23nvvPb3xxhv6xje+oSeffFIPP/zwFc2zqKhIc+bMafAg9cwzz+jEiROaNm1awPXPP/+8JGnPnj364IMP6n2dYPc3XOsAQPiJDvUEAADXTmpqqu666y5JUp8+fXT33XerQ4cOeu655zRu3LgQzy6wt956Sx999FGDhb2srCzfe9CvXz+1aNFCEyZM0OrVqzVnzhzfuE6dOun+++/X/Pnzdd999zXIthvC888/r9atW6t9+/Z6+eWXtXDhQrlcrqt+3QtrQ5IGDx6sAwcO6KWXXlJVVZViYmKuehtX69y5c/r1r3+tiRMnKi4urs767du3a+fOnRo+fLg2btyo5cuXq3fv3gFfK9j9Ddc6ABB+OCIFAIaqqqo0a9YsZWZmyuFw6IYbbtDUqVPr/Et8hw4dNGLECP3xj3/UnXfeKZfLpVtuuUV//OMfJZ0/rfCWW25RXFycevXqFfC0re3bt2vUqFFKSkpSTEyM7rzzTv3+97+/4rm3b99erVq10pEjR3zLak9v3L9/v9/Y2lPjNm/e7FtWe3rdtm3b1K9fP8XGxqpjx46aP3++ampqfONqamo0d+5c3XTTTXK5XGrRooW6deump59++rJzXLp0qXr27KmbbrrpivfzUnr06CFJfu9BrfHjx2vTpk3629/+dsnXuPPOO9WvX786y6urq3XDDTdozJgxvmVLly7V7bffrubNmys+Pl4333yzHn/88aDm+sEHH2j37t0aP368vv/97+vUqVN69dVX/cbYbDZVVFRo1apVvlPXBg4cGNTrXywxMdF3GmStgoICff3rX1fbtm0VExOjG2+8UZMnT9bRo0d9Y3Jzc/XTn/5UkpSZmembR23tvP322xo4cKCSk5PlcrnUrl07/cu//IvOnj17yfmsX79eX331lcaPHx9wfe0Ruvnz56tv375au3btZV/zcvsrBV8HAJo2ghQA6PwfwOfOnavzY1mW3zjLsjR69Gj9+7//u8aPH6+NGzdq+vTpWrVqle677z653W6/8Tt37tSsWbP02GOP6bXXXlNiYqLGjBmjJ554Qv/5n/+pvLw8vfTSSzp16pRGjBihyspK33Pfeecd3X333Tp58qSeffZZvfHGG7rjjjv0wAMPaOXKlVe0n6dOndLx48fVuXPnK3q+JJWWluqhhx7St7/9ba1fv17Dhg3TrFmztHr1at+YBQsWKDc3V9/61re0ceNGvfLKK5o0adJlT/vyeDzatGmT7r333nrHBPo9VVdXBz3/kpISSQr4HgwcOFCWZelPf/rTJV/ju9/9rrZu3Vrn9MD8/HwdOnRI3/3udyVJa9eu1ZQpUzRgwACtW7dOr7/+un7yk58EfR1SbVCYOHGiHnzwQcXGxtY5ve+9996Ty+XS1772Nd+pa88888xlX9uyLN/7d/LkSb3xxhtatWqVHnzwQdntdt+4v/3tb+rTp4+WLl2q/Px8/b//9//0wQcf6J577pHX65Ukfe973/Odevfaa6/55vFP//RP2r9/v4YPHy6Hw6Hnn39eb731lubPn6+4uDjfKYv12bhxo1q3bq1bb721zrrKykq9/PLL6tmzp7p06aKJEyfq9OnT+sMf/nBV+ysFXwcAmjgLAJqwFStWWJIu+dO+fXvf+LfeesuSZC1YsMDvdV555RVLkrVs2TLfsvbt21sul8s6ePCgb9mOHTssSVabNm2siooK3/LXX3/dkmStX7/et+zmm2+27rzzTsvr9fpta8SIEVabNm2s6urqS+6bJGvKlCmW1+u1PB6PtW/fPmvUqFFWfHy8tX379jrvQUlJid/z33nnHUuS9c477/iWDRgwwJJkffDBB35jb731Vmvo0KF+c7zjjjsuOb9APvjgA0uStXbt2jrrard9qZ8nnniizvxfeeUVy+v1WmfPnrX+53/+x7rpppusW2+91Tpx4kTAOdxwww3WAw88cMl5Hj161HI4HNbjjz/ut3zs2LFWamqq73f2yCOPWC1atDB7E/5PRUWFlZCQYN11112+ZRMmTLBsNpv12Wef+Y2Ni4uzJkyYEPRr1/f+DRs2zDpz5ky9z6upqbG8Xq914MABS5L1xhtv+Nb9+te/DlhH//Vf/2VJsnbs2BH0/Grdcsst1v333x9w3QsvvGBJsp599lnLsizr9OnTVvPmza1+/fo1yP4GUwcAmjaOSAGApBdeeEHbtm2r83PPPff4jau9AP073/mO3/JvfvObiouL03//93/7Lb/jjjt0ww03+B7fcsstks7/i3dsbGyd5bVd6j777DP99a9/1UMPPSTJ/yjM1772NR0+fFh79+697H4988wzstvtcjgc6ty5s9588029/PLL6t69ezBvS0BpaWnq1auX37Ju3br5ddjr1auXdu7cqSlTpujPf/6zysvLg3rtQ4cOSZJat24dcH2nTp0C/p42bdpU72s+8MADstvtio2N1d13363y8nJt3LhRLVq0CDi+devW+uqrry45z+TkZI0cOVKrVq3yndJ44sQJvfHGG3r44YcVHX3+EuRevXrp5MmT+ta3vqU33njD73S4y/n973+v8vJyTZw40bds4sSJsixLK1asCPp16jN27Fjf+7dlyxb99re/1fbt23X//ff7HVktKyvTD37wA2VkZCg6Olp2u93XBOSTTz657HbuuOMOORwO/eu//qtWrVqlzz//POg5Hjp0qN5aWL58uVwulx588EFJUvPmzfXNb35T7777bp0jhSb7WyuYOgDQtBGkAEDng0yPHj3q/CQmJvqNO3bsmKKjo9WqVSu/5TabTWlpaTp27Jjf8qSkJL/HDofjksurqqok/eP6nZkzZ8put/v9TJkyRZKC+qO89o/HoqIiPffcc4qPj9eDDz4Y8A/NYCUnJ9dZ5nQ6/U5LnDVrlv793/9d77//voYNG6bk5GQNGjSo3vbdtWpfo75GBzExMQF/T7fffnu9r/mrX/1K27ZtU2FhoWbPnq0jR45o9OjRAf94rt3GhftSn4kTJ+qrr75SQUGBJOnll1+W2+32C9njx4/X888/rwMHDuhf/uVf1Lp1a/Xu3dv3nEtZvny5YmJidP/99+vkyZM6efKkunXrpg4dOmjlypVGpzMG0qpVK9/7169fP02bNk2//e1vtXXrVt+pozU1NcrOztZrr72mRx99VP/93/+tDz/8UO+//74kBfU+derUSZs2bVLr1q01depUderUSZ06dQrqernKysqAtfDZZ59py5YtGj58uCzL8r0/3/jGNyT9o5Of6f5eKNg6ANB0EaQAwEBycrLOnTunv//9737LLctSaWmpUlJSGmQ7ta8za9asgEdgtm3bpjvuuOOyr1P7x2OfPn30r//6r3r99ddVUVGhn/zkJ74xtX+oXhwsTI6eXCw6OlrTp0/XRx99pOPHj+vll1/Wl19+qaFDh16yGUDtfh8/fvyKt32xjh07qkePHurfv7/mzp2rJ598Ujt37tTixYsDjj9+/HhQv8ehQ4cqPT3dd3RoxYoV6t27d53reb773e+qqKhIp06d0saNG2VZlkaMGOF3BO9i+/bt09atW1VVVaV27dqpZcuWvp/9+/frq6++0p///GeDdyE43bp1k3T+2j5J2r17t3bu3Klf//rXmjZtmgYOHKiePXsGDNOX0q9fP23YsEGnTp3S+++/rz59+ignJ0dr16695PNSUlIC1sLzzz8vy7L0X//1X37vzfDhwyVJq1atCipoXry/Fwq2DgA0XQQpADAwaNAgSfJrrCBJr776qioqKnzrr9ZNN92krKws7dy5M+ARmB49eig+Pt74dfv166eHH35YGzdu1HvvvSdJvhsOf/zxx35j169ff9X7IUktWrTQN77xDU2dOlXHjx+v0x3wQrWnOF7LbmmPPvqobrzxRs2fP1+nT5/2W3fu3Dl9+eWXAZsbXCwqKkrjx4/X66+/rnfffVfbt2/3Ow3vYnFxcRo2bJhmz54tj8ejPXv21Du2tqHE7373O73zzjt+P3/6059kt9v9jrpcfETwSu3YsUPSP06ttNlsvte/0HPPPVfnubVjLjWPqKgo9e7dW//xH/8hSfroo48uOZ+bb765Ti1UV1dr1apV6tSpU5335p133tGMGTN0+PBhvfnmm5d8banu/tYyqQMATRf3kQIAA0OGDNHQoUP12GOPqby8XHfffbc+/vhjPfHEE7rzzjvrbdN8JZ577jkNGzZMQ4cO1Xe+8x3dcMMNOn78uD755BN99NFH9XYnu5x/+7d/0yuvvKJf/OIX2rRpk6/V+MyZM3Xu3Dm1bNlS69at09atW6947iNHjlSXLl3Uo0cPtWrVSgcOHNCiRYvUvn17ZWVl1fu8tm3bqmPHjnr//ff1ox/96Iq3fyl2u115eXkaO3asnn76af385z/3rfv444919uzZS3YNvNDEiRP1q1/9SuPGjZPL5dIDDzzgt/773/++XC6X7r77brVp00alpaWaN2+eEhMT1bNnz4Cvee7cOb3wwgu65ZZb9L3vfS/gmJEjR2r9+vX6+9//rlatWqlr167avHmzNmzYoDZt2ig+Pv6y7eOPHDniO0WvqqpKO3bs0Ny5c9WiRQtf18Gbb75ZnTp10s9+9jNZlqWkpCRt2LAh4KmJXbt2lSQ9/fTTmjBhgux2u2666Sa99NJLevvttzV8+HC1a9dOVVVVvhA4ePDgS85x4MCBevLJJ3X27FnfNYVvvvmmDh06pF/96lcB27x36dJFS5Ys0fLlyzVixAij/a1lWgcAmqhQdroAgFCr7Vi3bdu2gOuHDx/u17XPsiyrsrLSeuyxx6z27dtbdrvdatOmjfXDH/6wThe49u3bW8OHD6/zmpKsqVOn+i0rKSmxJFm//vWv/Zbv3LnTGjt2rNW6dWvLbrdbaWlp1n333efrVHYpgbZT66c//aklySosLLQsy7L27dtnZWdnWwkJCVarVq2sadOmWRs3bgzYte+2226r83oTJkzwe59+85vfWH379rVSUlIsh8NhtWvXzpo0aZK1f//+y877F7/4hdWyZUurqqrKb3l927Ysy/r73/9eb9e+P/zhDwGf07t3b6tly5bWyZMn/badkpJSZ9uX0rdvX0uS9dBDD9VZt2rVKuvee++1UlNTLYfDYaWnp1tjx461Pv7443pfr7aD46JFi+odU9s98je/+Y1lWee7Qd59991WbGysJckaMGDAJeesi7rX2e12q2PHjtZ3v/vdOh0B//d//9caMmSIFR8fb7Vs2dL65je/aX3xxRd13m/LsqxZs2ZZ6enpVrNmzXy1895771n//M//bLVv395yOp1WcnKyNWDAAL8OlfX57LPPLJvNZv3+97/3LRs9erTlcDissrKyep/34IMPWtHR0VZpaanx/lrWldUBgKbHZlkX3SQFAIAQOnTokDIzM/XCCy/UOcJzLVVXV+vGG2/UuHHj9Mtf/rLRtotLGzlypM6dOxfUqXoNgToAECyukQIAhJX09HTl5OTol7/8pa+1eGNYvXq1zpw5o5/+9KeNtk1c3rx587Rp0yZt27atUbZHHQAIFtdIAQDCzs9//nPFxsbqq6++UkZGRqNss6amRi+99FK995dCaHTp0kUrVqxQaWlpo2yPOgAQLE7tAwAAAABDnNoHAAAAAIYIUgAAAABgiCAFAAAAAIZoNqHzF5YeOnRI8fHxvru4AwAAAGh6LMvS6dOnlZ6ermbN6j/uRJDS+XuWNFZXKAAAAADh78svv1Tbtm3rXU+QkhQfHy/p/JuVkJAQ0rl4vV7l5+crOztbdrs9pHNBZKBmYIqagSlqBqaoGZgKp5opLy9XRkaGLyPUhyAl+U7nS0hICIsgFRsbq4SEhJAXESIDNQNT1AxMUTMwRc3AVDjWzOUu+aHZBAAAAAAYIkgBAAAAgCGCFAAAAAAYIkgBAAAAgCGCFAAAAAAYIkgBAAAAgCGCFAAAAAAYIkgBAAAAgCGCFAAAAAAYIkgBAAAAgCGCFAAAAAAYIkgBAAAAgCGCFAAAAAAYIkgBAAAAgKGQB6mvvvpK3/72t5WcnKzY2FjdcccdKi4u9q23LEu5ublKT0+Xy+XSwIEDtWfPHr/XcLvdmjZtmlJSUhQXF6dRo0bp4MGDjb0rwHWv0lOtw6cqdeBYhQ6fqlSlpzrUUwIAXCf4jkGkiQ7lxk+cOKG7775b9957r9588021bt1af/vb39SiRQvfmAULFmjhwoVauXKlOnfurLlz52rIkCHau3ev4uPjJUk5OTnasGGD1q5dq+TkZM2YMUMjRoxQcXGxoqKiQrR3wPXleIVbW/Yd1Yclx3Wswq3kOKd6ZSapf+cUJcU5Qz09AEAE4zsGkSikQepXv/qVMjIytGLFCt+yDh06+P7bsiwtWrRIs2fP1pgxYyRJq1atUmpqqtasWaPJkyfr1KlTWr58uV588UUNHjxYkrR69WplZGRo06ZNGjp0aKPuE3A9qvRUa8u+o9qw85Bv2ZHyKt/jobelyeXgHy0AAOb4jkGkCmmQWr9+vYYOHapvfvObKiws1A033KApU6bo+9//viSppKREpaWlys7O9j3H6XRqwIABKioq0uTJk1VcXCyv1+s3Jj09XV26dFFRUVHAIOV2u+V2u32Py8vLJUler1der/da7W5Qarcf6nkgcjRGzRw7XaXikqOKVk2ddcX7j6pHuwSlJsRcs+2jYfE5A1PUDEyZ1AzfMZDC63Mm2DmENEh9/vnnWrp0qaZPn67HH39cH374oX70ox/J6XTq4YcfVmlpqSQpNTXV73mpqak6cOCAJKm0tFQOh0MtW7asM6b2+RebN2+e5syZU2d5fn6+YmNjG2LXrlpBQUGop4AIc61rpkeUpJaB1xVv3X9Nt41rg88ZmKJmYCrYmuE7BrXC4XPm7NmzQY0LaZCqqalRjx49lJeXJ0m68847tWfPHi1dulQPP/ywb5zNZvN7nmVZdZZd7FJjZs2apenTp/sel5eXKyMjQ9nZ2UpISLjS3WkQXq9XBQUFGjJkiOx2e0jngsjQGDVzpLxKzxV+rrLyqjrrWifGaHL/jvxrYQThcwamqBmYMqkZvmMghdfnTO3ZapcT0iDVpk0b3XrrrX7LbrnlFr366quSpLS0NEnnjzq1adPGN6asrMx3lCotLU0ej0cnTpzwOypVVlamvn37Btyu0+mU01n3wkW73R7yX1ytcJoLIsO1rJnk+Gbqnpnid/56re4dUpQcHyu7nfPXIw2fMzBFzcBUMDXDdwwuFA6fM8FuP6Ttz++++27t3bvXb9m+ffvUvn17SVJmZqbS0tL8DvF5PB4VFhb6QlL37t1lt9v9xhw+fFi7d++uN0gB4SbcW766HFHq3zlFI29PV1pijOxRNqUlxmjk7enq3zmFi4CbgHCvUQCRi+8YRKqQHpH6yU9+or59+yovL09jx47Vhx9+qGXLlmnZsmWSzp/Sl5OTo7y8PGVlZSkrK0t5eXmKjY3VuHHjJEmJiYmaNGmSZsyYoeTkZCUlJWnmzJnq2rWrr4sfEM4ipeVrUpxTQ29LU++OSfKcq5EjuplauBx8wTUBkVKjACIX3zGIRCENUj179tS6des0a9YsPfnkk8rMzNSiRYv00EMP+cY8+uijqqys1JQpU3TixAn17t1b+fn5vntISdJTTz2l6OhojR07VpWVlRo0aJBWrlzJPaQQ9iKt5avLESWXwxXqaaARRVqNAohcfMcg0oQ0SEnSiBEjNGLEiHrX22w25ebmKjc3t94xMTExWrx4sRYvXnwNZghcOycrPfqw5HjAddv2H1fvjkl8qSCkqFEAAAIL6TVSQFPnOVejYxXugOuOnXHLc67uPTWAxkSNAgAQGEEKCCFHdDMl13ONSXJzpxzR/F8UoUWNAgAQGN+AQAi1cDnUKzMp4LqeHZLUwuVo5BkB/qhRAAACC/k1UsD1pNJTrZOVnqA7DtW2fJXOX29y7Ixbyc2d6tkhiZavuCTTWrtS1CgAAIERpIAGcqUtomn5ClON3Y6cGgUAoC6CFNAArrZFNC1fEaxQtSOnRgEA8Mc1UkADuFyL6JOVnkaeEa5X1BoAAOGBIAU0AFpEo7FQawAAhAeCFNAAaBGNxkKtAQAQHvjGBRoALaLRWKg1AADCA80mgAZAi2g0FmoNAIDwQJACGggtotFYqDUAAEKPIAU0IFpEo7FQawAAhBbXSAEAAACAIYIUAAAAABgiSAEAAACAIYIUAAAAABii2QTQgCo91TpZ6aGTGgAAwHWOIAU0kOMVbm3Zd1QflhzXsQq3kuOc6pV5/t4+SXHOUE8PAAAADYggBTSASk+1tuw7qg07D/mWHSmv8j0eelsaR6YAAACuI1wjBTSAk5UefVhyPOC6bfuP62Slp5FnBAAAgGuJIAU0AM+5Gh2rcAdcd+yMW55zNY08IwAAAFxLBCmgATiimym5nuugkps75Yjm/2oAAADXE/66AxpAC5dDvTKTAq7r2SFJLVyORp4RAAAAriWaTQANwOWIUv/OKZLOXxN17Ixbyc2d6tnhfNc+Gk0gXFR6qnXsdJWk8w1RkuObUZ8AAFwBghTQQJLinBp6W5p6d0ziPlIIS7Ut+otLjqpHlPRc4efqnplCi34AAK4AQQpoQC5HlFwOV6inAdRxYYv+aNVILaUyWvQDAHDFuEYKAJoAWvQDANCwCFIA0ATQoh8AgIZFkAKAJoAW/QAANCy+OQGgCaBFPwAADYtmEwDQBFzYor94/1FJUuvEGHXvkEKLfgAArgBBCgCaiNoW/T3aJah4635N7t9RyfGxhCgAAK4AQQoAmhCXI0qpCTGSpNSEGNnthCgAAK4E10gBAAAAgCGCFAAAAAAYIkgBAAAAgCGCFAAAAAAYIkgBAAAAgCGCFAAAAAAYIkgBAAAAgCGCFAAAAAAYIkgBAAAAgCGCFAAAAAAYIkgBAAAAgKHoUE8AQOOr9FTrZKVHnnM1ckQ3UwuXQy5HVKin1WCu9/0DAAChR5ACmpjjFW5t2XdUH5Yc17EKt5LjnOqVmaT+nVOUFOcM9fSu2vW+fwAAIDwQpIAmpNJTrS37jmrDzkO+ZUfKq3yPh96WFtFHbq73/QMAAOGDa6SAJuRkpUcflhwPuG7b/uM6Welp5Bk1rOt9/wAAQPggSAFNiOdcjY5VuAOuO3bGLc+5mkaeUcO63vcPAACED4IU0IQ4opspuZ7rhJKbO+WIjuyPhOt9/wAAQPjgrwqgCWnhcqhXZlLAdT07JKmFy9HIM2pY1/v+AQCA8EGzCaAJcTmi1L9ziqTz1wwdO+NWcnOnenY439Uu0hsxXO/7B0QSbkMAIFiVnmodO10l6XyTqOT4ZhHxeUGQApqYpDinht6Wpt4dk67LP3Cu9/0DIgG3IQAQrNrPi+KSo+oRJT1X+Lm6Z6ZExOcFQQpoglyOKLkcrlBP45q53vcPCGfchgBAsC78vIhWjdRSKougzwuukQIAAA2G2xAACFakf14QpAAAQIPhNgQAghXpnxcEKQAA0GC4DQGAYEX650V4zw4AAEQUbkMAIFiR/nkR0iCVm5srm83m95OWluZbb1mWcnNzlZ6eLpfLpYEDB2rPnj1+r+F2uzVt2jSlpKQoLi5Oo0aN0sGDBxt7V4CrUump1uFTlTpwrEKHT1Wq0lMd6ikBwBWpvQ3ByNvTlZYYI3uUTWmJMRp5ezq3IQDg58LPi9aJMZKk1hH0eRHyrn233XabNm3a5HscFfWPN2zBggVauHChVq5cqc6dO2vu3LkaMmSI9u7dq/j4eElSTk6ONmzYoLVr1yo5OVkzZszQiBEjVFxc7PdaQLiiTTCA6w23IQAQrNrPix7tElS8db8m9++o5PjYiPi8CHmQio6O9jsKVcuyLC1atEizZ8/WmDFjJEmrVq1Samqq1qxZo8mTJ+vUqVNavny5XnzxRQ0ePFiStHr1amVkZGjTpk0aOnRoo+4LYIo2wQCuV9yGAECwXI4opSacPyKVmhAjuz0y/vYJeZD69NNPlZ6eLqfTqd69eysvL08dO3ZUSUmJSktLlZ2d7RvrdDo1YMAAFRUVafLkySouLpbX6/Ubk56eri5duqioqKjeIOV2u+V2/6NDSHl5uSTJ6/XK6/Veoz0NTu32Qz0PNI5jp6tUXHL0/L0TLlK8/6h6tEvwfbDUh5qBKWoGpqgZmKJmYCqcaibYOYQ0SPXu3VsvvPCCOnfurCNHjmju3Lnq27ev9uzZo9LSUklSamqq33NSU1N14MABSVJpaakcDodatmxZZ0zt8wOZN2+e5syZU2d5fn6+YmNjr3a3GkRBQUGop4BG0iNKUsvA64q37g/6dagZmKJmYIqagSlqBqbCoWbOnj0b1LiQBqlhw4b5/rtr167q06ePOnXqpFWrVumuu+6SJNlsNr/nWJZVZ9nFLjdm1qxZmj59uu9xeXm5MjIylJ2drYSEhCvZlQbj9XpVUFCgIUOGyG63h3QuuPaOlFfpucLPVVZeVWdd68QYTe7fMagjUtQMTFAzMEXNwBQ1A1PhVDO1Z6tdTshP7btQXFycunbtqk8//VSjR4+WdP6oU5s2bXxjysrKfEep0tLS5PF4dOLECb+jUmVlZerbt2+923E6nXI6617Eb7fbQ/6LqxVOc8G1kxzfTN0zU/yukarVvUOKkuNjgz5PmJqBKWoGpqgZmKJmYCocaibY7YfVfaTcbrc++eQTtWnTRpmZmUpLS/M7vOfxeFRYWOgLSd27d5fdbvcbc/jwYe3evfuSQQoIF7QJBgAAiEwhPSI1c+ZMjRw5Uu3atVNZWZnmzp2r8vJyTZgwQTabTTk5OcrLy1NWVpaysrKUl5en2NhYjRs3TpKUmJioSZMmacaMGUpOTlZSUpJmzpyprl27+rr4AeGONsEAAACRJ6RB6uDBg/rWt76lo0ePqlWrVrrrrrv0/vvvq3379pKkRx99VJWVlZoyZYpOnDih3r17Kz8/33cPKUl66qmnFB0drbFjx6qyslKDBg3SypUruYcUIgptggEAACJLSIPU2rVrL7neZrMpNzdXubm59Y6JiYnR4sWLtXjx4gaeHQAAAAAEFlbXSAEAAABAJCBIAQAAAIAhghQAAAAAGAqr+0gBAABciUpPtU5Weuh+CqDREKQAAEBEO17h1pZ9R/VhyXEdq3ArOc6pXplJ6t85RUlxzlBPD8B1iiAFAAAiVqWnWlv2HdWGnYd8y46UV/keD70tjSNTAK4JrpECAAAR62SlRx+WHA+4btv+4zpZ6WnkGQFoKghSAAAgYnnO1ehYhTvgumNn3PKcq2nkGQFoKghSAAAgYjmimym5nuugkps75YjmTx0A1wafLgAAIGK1cDnUKzMp4LqeHZLUwuVo5BkBaCpoNgE0QbQJhilqBuHK5YhS/84pks5fE3XsjFvJzZ3q2eF81z7qFMC1QpACmhjaBMMUNYNwlxTn1NDb0tS7YxJhH0CjIUgBTQhtgmGKmkGkcDmi5HK4Qj0NAE0I10gBTQhtgmGKmgEAIDCCFNCE0CYYpqgZAAACI0gBTQhtgmGKmgEAIDC+AYEmhDbBMEXNAAAQGM0mgCaENsEwRc0AABAYQQpoYmgTDFPUDAAAdRGkgCaINsEwRc0AAOCPa6QAAAAAwBBBCgAAAAAMEaQAAAAAwBBBCgAAAAAM0WwCCKDSU62TlR46lCFo1AwAAE0LQQq4yPEKt7bsO6oPS47rWIVbyXFO9co8f8+cpDhnqKeHMETNAADQ9BCkgAtUeqq1Zd9Rbdh5yLfsSHmV7/HQ29I4ygA/1AwAAE0T10gBFzhZ6dGHJccDrtu2/7hOVnoaeUYId9QMAABNE0EKuIDnXI2OVbgDrjt2xi3PuZpGnhHCHTUDAEDTRJACLuCIbqbkeq5pSW7ulCOa/8vAHzUDAEDTxDc8cIEWLod6ZSYFXNezQ5JauByNPCOEO2oGAICmiWYTMHY9t3l2OaLUv3OKpPPXtxw741Zyc6d6djjfge162U80HGoGAICmiSAFI02hzXNSnFNDb0tT745J12VYRMOjZgAAaHoIUghaU2rz7HJEyeVwhXoaiCDUDAAATQvXSCFotHkGAAAAziNIIWi0eQYAAADOI0ghaLR5BgAAAM7jL18EjTbPAAAAwHk0m0DQaPMMAACauuv5NjAwQ5CCEdo8AwCApqop3AYGwSNIwRhtngEAQFPTlG4Dg+BwjRQAAABwGdwGBhcjSAEAAACXwW1gcDGCFAAAAHAZ3AYGF+M3DgAAAFwGt4HBxWg20YTRvhOmqBkAQFPFbWBwMYJUE0X7TpiiZgAATR23gcGFCFJNEO07YYqaAQDgPG4Dg1pcI9UE0b4TpqgZAAAAfwSpJoj2nTBFzQAAAPgjSDVBtO+EKWoGAADAH3/9NEG074QpagYAAMAfzSaaINp3whQ1g0hxpS36ae0PADBFkGqiaN8JU9QMwt2VtuintT8A4EoQpJow2nfCFDWDcHWlLfpp7Q8AuFJcIwUAiHhX2qKf1v4AgCtFkAIARLwrbdFPa38AwJUiSAEAIt6VtuintT8A4ErxDQEAiHhX2qKf1v4AgCsVNkFq3rx5stlsysnJ8S2zLEu5ublKT0+Xy+XSwIEDtWfPHr/nud1uTZs2TSkpKYqLi9OoUaN08ODBRp49rrVKT7UOn6rUgWMVOnyqUpWe6lBPCWGMeml44f6e1rboH3l7utISY2SPsiktMUYjb0+/ZIv+K30eAABh0bVv27ZtWrZsmbp16+a3fMGCBVq4cKFWrlypzp07a+7cuRoyZIj27t2r+Ph4SVJOTo42bNigtWvXKjk5WTNmzNCIESNUXFysqCi+AK8HtCaGCeql4UXKe3qlLfpp7Q8AuBIhPyJ15swZPfTQQ/rd736nli1b+pZblqVFixZp9uzZGjNmjLp06aJVq1bp7NmzWrNmjSTp1KlTWr58uX7zm99o8ODBuvPOO7V69Wrt2rVLmzZtCtUuoQFd2Jr4SHmVzlVbvtbEW/YdDbt/FUdoUS8NL9LeU5cjSm0SXWqfHKc2ia6gw9CVPg8A0HSF/IjU1KlTNXz4cA0ePFhz5871LS8pKVFpaamys7N9y5xOpwYMGKCioiJNnjxZxcXF8nq9fmPS09PVpUsXFRUVaejQoQG36Xa75Xb/o0tTeXm5JMnr9crr9Tb0Lhqp3X6o5xEujp2uUnHJUUWrbues4v1H1aNdglITYkIws/BBzfwD9RIck5rhPYXE5wzMUTMwFU41E+wcQhqk1q5dq48++kjbtm2rs660tFSSlJqa6rc8NTVVBw4c8I1xOBx+R7Jqx9Q+P5B58+Zpzpw5dZbn5+crNjbWeD+uhYKCglBPIWz0iJLUMvC64q37G3MqYY2aOY96CV6wNcN7ilp8zsAUNQNT4VAzZ8+eDWpcyILUl19+qR//+MfKz89XTEz9/5pps9n8HluWVWfZxS43ZtasWZo+fbrvcXl5uTIyMpSdna2EhIQg9+Da8Hq9Kigo0JAhQ2S320M6l3BwpLxKzxV+rrLyqjrrWifGaHL/jk3+X8OpmX+gXoJjUjO8p5D4nIE5agamwqlmas9Wu5yQBani4mKVlZWpe/fuvmXV1dXasmWLlixZor1790o6f9SpTZs2vjFlZWW+o1RpaWnyeDw6ceKE31GpsrIy9e3bt95tO51OOZ11L5C22+0h/8XVCqe5hFJyfDN1z0zRhp2H6qzr3iFFyfGxstu5lkGiZiTqxVQwNcN7igvxOQNT1AxMhUPNBLv9kDWbGDRokHbt2qUdO3b4fnr06KGHHnpIO3bsUMeOHZWWluZ3eM/j8aiwsNAXkrp37y673e435vDhw9q9e/clgxQiB62JYYJ6aXi8pwAABBayI1Lx8fHq0qWL37K4uDglJyf7lufk5CgvL09ZWVnKyspSXl6eYmNjNW7cOElSYmKiJk2apBkzZig5OVlJSUmaOXOmunbtqsGDBzf6PuHaoDUxTFAvDY/3FACAukLete9SHn30UVVWVmrKlCk6ceKEevfurfz8fN89pCTpqaeeUnR0tMaOHavKykoNGjRIK1eu5B5S1xmXI0ouhyvU00CEoF4aHu8pAAD+wipIbd682e+xzWZTbm6ucnNz631OTEyMFi9erMWLF1/byQEAAADA/wn5DXkBAAAAINIQpAAAAADAEEEKAAAAAAwRpIAIVump1pH/u1HqkfIqVXqqQzwjAACApoEgBUSo4xVu/XlPqZ4r/FyS9Fzh5/rznlIdr3CHeGYAAADXv7Dq2gcgOJWeam3Zd1Qbdh5StGqkllJZeZU27DwkSRp6Wxr3+AEAALiGOCIFRKCTlR59WHI84Lpt+4/rZKWnkWcEAADQtBCkgAjkOVejY/WcwnfsjFueczWNPCMAAICmhSAFRCBHdDMlxzkDrktu7pQjmv9rAwAAXEv8tQVEoBYuh3plJgVc17NDklq4HI08IwAAgKaFZhNABHI5otS/c4okqXj/UUlS68QYde+Qov6dU2g0AQAAcI0RpIAIlRTn1NDb0tSjXYKKt+7X5P4dlRwfS4gCAABoBAQpIIK5HFFKTYiRJKUmxMhuJ0QBAAA0Bq6RAgAAAABDBCkAAAAAMESQAgAAAABDBCkAAAAAMESzCaAJqvRU62SlR55zNXJEN1MLlyOobn9X+jwAAIDrDUEKaGKOV7i1Zd9RfVhyXMcq3EqOc6pXZpL6d05RUpyzwZ8HAABwPSJIAU1IpadaW/Yd1Yadh3zLjpRX+R4PvS0t4BGmK30eAADA9YprpIAm5GSlRx+WHA+4btv+4zpZ6WnQ5wEAAFyvCFJAE+I5V6NjFe6A646dcctzrqZBnwcAAHC9IkgBTYgjupmS67meKbm5U47owB8JV/o8AACA6xV//QBNSAuXQ70ykwKu69khSS1cjgZ9HgAAwPWKZhNoNKFonU27bn8uR5T6d06RdP7apmNn3Epu7lTPDue779X33lzp8wAAAK5XBCk0ilC0zqZdd2BJcU4NvS1NvTsmGQXMK30eAADA9YgghWsuFK2zadd9aS5HlFwOV6M9DwAA4HrDNVK45kLROpt23QAAALiWCFK45kLROpt23QAAALiWCFK45kLROpt23QAAALiW+GsS11woWmfTrhsAAADXEs0mcM2FonU27boBAABwLRGk0ChC0Tqbdt0AAAC4VghSaDShaJ1Nu24AAABcC1wjBQAAAACGCFIAAAAAYIggBQAAAACGCFIAAAAAYIhmEwCCVump1slKD10QAQBAk0eQAhCU4xVubdl3VB+WHNexCreS45zqlXn+vlxJcc5QTw8AAKBREaQAXFalp1pb9h3Vhp2HfMuOlFf5Hg+9LY0jUwAAoEnhGikAl3Wy0qMPS44HXLdt/3GdrPQ08owAAABCiyAF4LI852p0rMIdcN2xM255ztU08owAAABCiyAF4LIc0c2UXM91UMnNnXJE81ECAACaFv76AXBZLVwO9cpMCriuZ4cktXA5GnlGAAAAoUWzCQCX5XJEqX/nFEnnr4k6dsat5OZO9exwvmsfjSYAAEBTQ5ACEJSkOKeG3pam3h2TuI8UAABo8ghSAILmckTJ5XCFehoAAAAhxzVSAAAAAGCIIAUAAAAAhghSAAAAAGCIIAUAAAAAhghSAAAAAGCIIAUAAAAAhghSAAAAAGCIIAUAAAAAhq46SHk8Hp05c6Yh5gIAAAAAEcEoSK1YsULTpk3TSy+9JEmaNWuW4uPjlZiYqCFDhujYsWPXZJIAAAAAEE6CDlK//OUvNXXqVH3yySf60Y9+pB/+8IdauXKlnnzySc2fP19//etf9fOf//xazhUAAAAAwkLQQWrlypVavny5Nm3apD//+c9atmyZFi9erMcee0w//elPtWzZMv3pT38y2vjSpUvVrVs3JSQkKCEhQX369NGbb77pW29ZlnJzc5Weni6Xy6WBAwdqz549fq/hdrs1bdo0paSkKC4uTqNGjdLBgweN5gEAAAAAJoIOUl988YXuueceSVKPHj0UHR2trl27+tZ369ZNhw8fNtp427ZtNX/+fG3fvl3bt2/Xfffdp69//eu+sLRgwQItXLhQS5Ys0bZt25SWlqYhQ4bo9OnTvtfIycnRunXrtHbtWm3dulVnzpzRiBEjVF1dbTQXAAAAAAhW0EHK6/XK6XT6HjscDtntdt/j6Oho4/AycuRIfe1rX1Pnzp3VuXNn/fKXv1Tz5s31/vvvy7IsLVq0SLNnz9aYMWPUpUsXrVq1SmfPntWaNWskSadOndLy5cv1m9/8RoMHD9add96p1atXa9euXdq0aZPRXAAAAAAgWNEmg//3f/9XpaWlks6fdvfXv/7V17Hv6NGjVzWR6upq/eEPf1BFRYX69OmjkpISlZaWKjs72zfG6XRqwIABKioq0uTJk1VcXCyv1+s3Jj09XV26dFFRUZGGDh0acFtut1tut9v3uLy8XNL5sOj1eq9qP65W7fZDPQ9EDmoGpqgZmKJmYIqagalwqplg52AUpAYNGiTLsnyPR4wY4bfeZrOZvJwkadeuXerTp4+qqqrUvHlzrVu3TrfeequKiookSampqX7jU1NTdeDAAUlSaWmpHA6HWrZsWWdMbeALZN68eZozZ06d5fn5+YqNjTXeh2uhoKAg1FNAhKFmYIqagSlqBqaoGZgKh5o5e/ZsUOOCDlIlJSWXHXPixIlgX87npptu0o4dO3Ty5Em9+uqrmjBhggoLC33rLw5nlmVdNrBdbsysWbM0ffp03+Py8nJlZGQoOztbCQkJxvvQkLxerwoKCjRkyBC/UyeB+lAzMEXNwBQ1A1PUDEyFU83Unq12OUEHqfbt2wdcfurUKb300ktavny5duzYYXydlMPh0I033ijpfBOLbdu26emnn9Zjjz0m6fxRpzZt2vjGl5WV+Y5SpaWlyePx6MSJE35HpcrKytS3b996t+l0Ov2u96plt9tD/ourFU5zQWSgZmCKmoEpagamqBmYCoeaCXb7RjfkvdDbb7+tb3/722rTpo0WL16sYcOGafv27Vf6cj6WZcntdiszM1NpaWl+h/c8Ho8KCwt9Ial79+6y2+1+Yw4fPqzdu3dfMkgBAAAAwNUwukbq4MGDWrlypZ5//nlVVFRo7Nix8nq9evXVV3Xrrbcab/zxxx/XsGHDlJGRodOnT2vt2rXavHmz3nrrLdlsNuXk5CgvL09ZWVnKyspSXl6eYmNjNW7cOElSYmKiJk2apBkzZig5OVlJSUmaOXOmunbtqsGDBxvPBwAAAACCEXSQ+trXvqatW7dqxIgRWrx4se6//35FRUXp2WefveKNHzlyROPHj9fhw4eVmJiobt266a233tKQIUMkSY8++qgqKys1ZcoUnThxQr1791Z+fr7i4+N9r/HUU08pOjpaY8eOVWVlpQYNGqSVK1cqKirqiucFAAAAAJcSdJDKz8/Xj370I/3whz9UVlZWg2x8+fLll1xvs9mUm5ur3NzcesfExMRo8eLFWrx4cYPMCQAAAAAuJ+hrpN59912dPn1aPXr0UO/evbVkyRL9/e9/v5ZzAwAAAICwFHSQ6tOnj373u9/p8OHDmjx5stauXasbbrhBNTU1Kigo0OnTp6/lPAEAAAAgbBh37YuNjdXEiRO1detW7dq1SzNmzND8+fPVunVrjRo16lrMEQAAAADCyhW3P5fO30x3wYIFOnjwoF5++eWGmhMAAAAAhLWrClK1oqKiNHr0aK1fv74hXg4AAAAAwlqDBCkAAAAAaEoIUgAAAABgiCAFAAAAAIYIUgAAAABgiCAFAAAAAIYIUgAAAABgiCAFAAAAAIYIUgAAAABgiCAFAAAAAIYIUgAAAABgiCAFAAAAAIYIUgAAAABgiCAFAAAAAIYIUgAAAABgiCAFAAAAAIYIUgAAAABgiCAFAAAAAIYIUgAAAABgiCAFAAAAAIYIUgAAAABgiCAFAAAAAIYIUgAAAABgiCAFAAAAAIYIUgAAAABgiCAFAAAAAIYIUgAAAABgiCAFAAAAAIYIUgAAAABgiCAFAAAAAIYIUgAAAABgiCAFAAAAAIYIUgAAAABgiCAFAAAAAIYIUgAAAABgiCAFAAAAAIYIUgAAAABgiCAFAAAAAIYIUgAAAABgiCAFAAAAAIYIUgAAAABgiCAFAAAAAIYIUgAAAABgiCAFAAAAAIYIUgAAAABgiCAFAAAAAIYIUgAAAABgiCAFAAAAAIYIUgAAAABgiCAFAAAAAIYIUgAAAABgiCAFAAAAAIYIUgAAAABgiCAFAAAAAIYIUgAAAABgKKRBat68eerZs6fi4+PVunVrjR49Wnv37vUbY1mWcnNzlZ6eLpfLpYEDB2rPnj1+Y9xut6ZNm6aUlBTFxcVp1KhROnjwYGPuCgAAAIAmJKRBqrCwUFOnTtX777+vgoICnTt3TtnZ2aqoqPCNWbBggRYuXKglS5Zo27ZtSktL05AhQ3T69GnfmJycHK1bt05r167V1q1bdebMGY0YMULV1dWh2C0AAAAA17noUG78rbfe8nu8YsUKtW7dWsXFxerfv78sy9KiRYs0e/ZsjRkzRpK0atUqpaamas2aNZo8ebJOnTql5cuX68UXX9TgwYMlSatXr1ZGRoY2bdqkoUOHNvp+AQAAALi+hTRIXezUqVOSpKSkJElSSUmJSktLlZ2d7RvjdDo1YMAAFRUVafLkySouLpbX6/Ubk56eri5duqioqChgkHK73XK73b7H5eXlkiSv1yuv13tN9i1YtdsP9TwQOagZmKJmYIqagSlqBqbCqWaCnUPYBCnLsjR9+nTdc8896tKliySptLRUkpSamuo3NjU1VQcOHPCNcTgcatmyZZ0xtc+/2Lx58zRnzpw6y/Pz8xUbG3vV+9IQCgoKQj0FRBhqBqaoGZiiZmCKmoGpcKiZs2fPBjUubILUI488oo8//lhbt26ts85ms/k9tiyrzrKLXWrMrFmzNH36dN/j8vJyZWRkKDs7WwkJCVcw+4bj9XpVUFCgIUOGyG63h3QuiAzUDExRMzBFzcAUNQNT4VQztWerXU5YBKlp06Zp/fr12rJli9q2betbnpaWJun8Uac2bdr4lpeVlfmOUqWlpcnj8ejEiRN+R6XKysrUt2/fgNtzOp1yOp11ltvt9pD/4mqF01wQGagZmKJmYIqagSlqBqbCoWaC3X5Iu/ZZlqVHHnlEr732mt5++21lZmb6rc/MzFRaWprfIT6Px6PCwkJfSOrevbvsdrvfmMOHD2v37t31BikAAAAAuBohPSI1depUrVmzRm+88Ybi4+N91zQlJibK5XLJZrMpJydHeXl5ysrKUlZWlvLy8hQbG6tx48b5xk6aNEkzZsxQcnKykpKSNHPmTHXt2tXXxQ8AAAAAGlJIg9TSpUslSQMHDvRbvmLFCn3nO9+RJD366KOqrKzUlClTdOLECfXu3Vv5+fmKj4/3jX/qqacUHR2tsWPHqrKyUoMGDdLKlSsVFRXVWLsCAAAAoAkJaZCyLOuyY2w2m3Jzc5Wbm1vvmJiYGC1evFiLFy9uwNkBAAAAQGAhvUYKAAAAACIRQQoAAAAADBGkAAAAAMAQQQoAAAAADBGkAAAAAMAQQQoAAAAADBGkAAAAAMAQQQoAAAAADBGkAAAAAMAQQQoAAAAADBGkAAAAAMAQQQoAAAAADBGkAAAAAMAQQQoAAAAADBGkAAAAAMAQQQoAAAAADBGkAAAAAMAQQQoAAAAADBGkAAAAAMAQQQoAAAAADBGkAAAAAMAQQQoAAAAADBGkAAAAAMAQQQoAAAAADBGkAAAAAMAQQQoAAAAADBGkAAAAAMAQQQoAAAAADBGkAAAAAMAQQQoAAAAADBGkAAAAAMAQQQoAAAAADBGkAAAAAMAQQQoAAAAADBGkAAAAAMAQQQoAAAAADBGkAAAAAMAQQQoAAAAADBGkAAAAAMAQQQoAAAAADBGkAAAAAMAQQQoAAAAADBGkAAAAAMAQQQoAAAAADBGkAAAAAMAQQQoAAAAADBGkAAAAAMAQQQoAAAAADBGkAAAAAMAQQQoAAAAADBGkAAAAAMAQQQoAAAAADBGkAAAAAMAQQQoAAAAADBGkAAAAAMAQQQoAAAAADBGkAAAAAMAQQQoAAAAADBGkAAAAAMBQSIPUli1bNHLkSKWnp8tms+n111/3W29ZlnJzc5Weni6Xy6WBAwdqz549fmPcbremTZumlJQUxcXFadSoUTp48GAj7gUAAACApiakQaqiokK33367lixZEnD9ggULtHDhQi1ZskTbtm1TWlqahgwZotOnT/vG5OTkaN26dVq7dq22bt2qM2fOaMSIEaqurm6s3QAAAADQxESHcuPDhg3TsGHDAq6zLEuLFi3S7NmzNWbMGEnSqlWrlJqaqjVr1mjy5Mk6deqUli9frhdffFGDBw+WJK1evVoZGRnatGmThg4d2mj7AgAAAKDpCGmQupSSkhKVlpYqOzvbt8zpdGrAgAEqKirS5MmTVVxcLK/X6zcmPT1dXbp0UVFRUb1Byu12y+12+x6Xl5dLkrxer7xe7zXao+DUbj/U80DkoGZgipqBKWoGpqgZmAqnmgl2DmEbpEpLSyVJqampfstTU1N14MAB3xiHw6GWLVvWGVP7/EDmzZunOXPm1Fmen5+v2NjYq516gygoKAj1FBBhqBmYomZgipqBKWoGpsKhZs6ePRvUuLANUrVsNpvfY8uy6iy72OXGzJo1S9OnT/c9Li8vV0ZGhrKzs5WQkHB1E75KXq9XBQUFGjJkiOx2e0jngshAzcAUNQNT1AxMUTMwFU41U3u22uWEbZBKS0uTdP6oU5s2bXzLy8rKfEep0tLS5PF4dOLECb+jUmVlZerbt2+9r+10OuV0Ousst9vtIf/F1QqnuSAyUDMwRc3AFDUDU9QMTIVDzQS7/bC9j1RmZqbS0tL8Du95PB4VFhb6QlL37t1lt9v9xhw+fFi7d+++ZJACAAAAgKsR0iNSZ86c0WeffeZ7XFJSoh07digpKUnt2rVTTk6O8vLylJWVpaysLOXl5Sk2Nlbjxo2TJCUmJmrSpEmaMWOGkpOTlZSUpJkzZ6pr166+Ln4AAAAA0NBCGqS2b9+ue++91/e49rqlCRMmaOXKlXr00UdVWVmpKVOm6MSJE+rdu7fy8/MVHx/ve85TTz2l6OhojR07VpWVlRo0aJBWrlypqKioRt8fAAAAAE1DSIPUwIEDZVlWvettNptyc3OVm5tb75iYmBgtXrxYixcvvgYzBAAAAIC6wvYaKQAAAAAIVwQpAAAAADBEkAIAAAAAQwQpAAAAADBEkAIAAAAAQwQpAAAAADBEkAIAAAAAQwQpAAAAADBEkAIAAAAAQwQpAAAAADBEkAIAAAAAQwQpAAAAADBEkAIAAAAAQwQpAAAAADBEkAIAAAAAQwQpAAAAADBEkAIAAAAAQwQpAAAAADBEkAIAAAAAQwQpAAAAADBEkAIAAAAAQwQpAAAAADBEkAIAAAAAQwQpAAAAADBEkAIAAAAAQwQpAAAAADBEkAIAAAAAQwQpAAAAADBEkAIAAAAAQwQpAAAAADBEkAIAAAAAQwQpAAAAADBEkAIAAAAAQwQpAAAAADBEkAIAAAAAQwQpAAAAADBEkAIAAAAAQwQpAAAAADBEkAIAAAAAQwQpAAAAADBEkAIAAAAAQwQpAAAAADBEkAIAAAAAQwQpAAAAADBEkAIAAAAAQwQpAAAAADBEkAIAAAAAQwQpAAAAADBEkAIAAAAAQwQpAAAAADBEkAIAAAAAQwQpAAAAADBEkAIAAAAAQwQpAAAAADBEkAIAAAAAQwQpAAAAADBEkAIAAAAAQwQpAAAAADBEkAIAAAAAQ9dNkHrmmWeUmZmpmJgYde/eXe+++26op2Ss0lOtI+VVkqQj5VWq9FSHeEYAAAAAArkugtQrr7yinJwczZ49W3/5y1/Ur18/DRs2TF988UWopxa04xVu/XlPqZ4r/FyS9Fzh5/rznlIdr3CHeGYAAAAALnZdBKmFCxdq0qRJ+t73vqdbbrlFixYtUkZGhpYuXRrqqQWl0lOtLfuOasPOQyr7vyNSZeVV2rDzkLbsO8qRKQAAACDMRId6AlfL4/GouLhYP/vZz/yWZ2dnq6ioKOBz3G633O5/HOkpLy+XJHm9Xnm93ms32XocO12l4pKjilaNolUjSb7/Ld5/VD3aJSg1IabR54XIUFuzoahdRCZqBqaoGZiiZmAqnGom2DlEfJA6evSoqqurlZqa6rc8NTVVpaWlAZ8zb948zZkzp87y/Px8xcbGXpN5Xk6PKEkt//E4u2WZ77+Lt+5v9Pkg8hQUFIR6Cogw1AxMUTMwRc3AVDjUzNmzZ4MaF/FBqpbNZvN7bFlWnWW1Zs2apenTp/sel5eXKyMjQ9nZ2UpISLim8wzkSHmVniv8XGXlVYpWjbJblin/RGudUzO1TozR5P4dOSKFenm9XhUUFGjIkCGy2+2hng4iADUDU9QMTFEzMBVONVN7ttrlRHyQSklJUVRUVJ2jT2VlZXWOUtVyOp1yOp11ltvt9pD84pLjm6l7Zoo27DzkW3ZOzXROzdS9Q4qS42Nlt0c1+rwQWUJVv4hc1AxMUTMwRc3AVDjUTLDbj/hmEw6HQ927d69zGLCgoEB9+/YN0azMuBxR6t85RSNvT1frxPNHnlonxmjk7enq3zlFLgchCgAAAAgnEX9ESpKmT5+u8ePHq0ePHurTp4+WLVumL774Qj/4wQ9CPbWgJcU5NfS2NPVol6Dirfs1uX9HJcfHEqIAAACAMHRdBKkHHnhAx44d05NPPqnDhw+rS5cu+tOf/qT27duHempGXI4o37VQqQkxnM4HAAAAhKnrIkhJ0pQpUzRlypRQTwMAAABAExDx10gBAAAAQGMjSAEAAACAIYIUAAAAABgiSAEAAACAIYIUAAAAABgiSAEAAACAIYIUAAAAABgiSAEAAACAIYIUAAAAABgiSAEAAACAIYIUAAAAABgiSAEAAACAIYIUAAAAABiKDvUEwoFlWZKk8vLyEM9E8nq9Onv2rMrLy2W320M9HUQAagamqBmYomZgipqBqXCqmdpMUJsR6kOQknT69GlJUkZGRohnAgAAACAcnD59WomJifWut1mXi1pNQE1NjQ4dOqT4+HjZbLaQzqW8vFwZGRn68ssvlZCQENK5IDJQMzBFzcAUNQNT1AxMhVPNWJal06dPKz09Xc2a1X8lFEekJDVr1kxt27YN9TT8JCQkhLyIEFmoGZiiZmCKmoEpagamwqVmLnUkqhbNJgAAAADAEEEKAAAAAAwRpMKM0+nUE088IafTGeqpIEJQMzBFzcAUNQNT1AxMRWLN0GwCAAAAAAxxRAoAAAAADBGkAAAAAMAQQQoAAAAADBGkAAAAAMAQQSrMPPPMM8rMzFRMTIy6d++ud999N9RTQpjYsmWLRo4cqfT0dNlsNr3++ut+6y3LUm5urtLT0+VyuTRw4EDt2bMnNJNFyM2bN089e/ZUfHy8WrdurdGjR2vv3r1+Y6gZXGjp0qXq1q2b72aYffr00ZtvvulbT73gcubNmyebzaacnBzfMuoGF8rNzZXNZvP7SUtL862PtHohSIWRV155RTk5OZo9e7b+8pe/qF+/fho2bJi++OKLUE8NYaCiokK33367lixZEnD9ggULtHDhQi1ZskTbtm1TWlqahgwZotOnTzfyTBEOCgsLNXXqVL3//vsqKCjQuXPnlJ2drYqKCt8YagYXatu2rebPn6/t27dr+/btuu+++/T1r3/d90cM9YJL2bZtm5YtW6Zu3br5LaducLHbbrtNhw8f9v3s2rXLty7i6sVC2OjVq5f1gx/8wG/ZzTffbP3sZz8L0YwQriRZ69at8z2uqamx0tLSrPnz5/uWVVVVWYmJidazzz4bghki3JSVlVmSrMLCQsuyqBkEp2XLltZ//ud/Ui+4pNOnT1tZWVlWQUGBNWDAAOvHP/6xZVl8zqCuJ554wrr99tsDrovEeuGIVJjweDwqLi5Wdna23/Ls7GwVFRWFaFaIFCUlJSotLfWrH6fTqQEDBlA/kCSdOnVKkpSUlCSJmsGlVVdXa+3ataqoqFCfPn2oF1zS1KlTNXz4cA0ePNhvOXWDQD799FOlp6crMzNTDz74oD7//HNJkVkv0aGeAM47evSoqqurlZqa6rc8NTVVpaWlIZoVIkVtjQSqnwMHDoRiSggjlmVp+vTpuueee9SlSxdJ1AwC27Vrl/r06aOqqio1b95c69at06233ur7I4Z6wcXWrl2rjz76SNu2bauzjs8ZXKx379564YUX1LlzZx05ckRz585V3759tWfPnoisF4JUmLHZbH6PLcuqswyoD/WDQB555BF9/PHH2rp1a5111AwudNNNN2nHjh06efKkXn31VU2YMEGFhYW+9dQLLvTll1/qxz/+sfLz8xUTE1PvOOoGtYYNG+b7765du6pPnz7q1KmTVq1apbvuuktSZNULp/aFiZSUFEVFRdU5+lRWVlYnmQMXq+14Q/3gYtOmTdP69ev1zjvvqG3btr7l1AwCcTgcuvHGG9WjRw/NmzdPt99+u55++mnqBQEVFxerrKxM3bt3V3R0tKKjo1VYWKjf/va3io6O9tUGdYP6xMXFqWvXrvr0008j8nOGIBUmHA6HunfvroKCAr/lBQUF6tu3b4hmhUiRmZmptLQ0v/rxeDwqLCykfpooy7L0yCOP6LXXXtPbb7+tzMxMv/XUDIJhWZbcbjf1goAGDRqkXbt2aceOHb6fHj166KGHHtKOHTvUsWNH6gaX5Ha79cknn6hNmzYR+TnDqX1hZPr06Ro/frx69OihPn36aNmyZfriiy/0gx/8INRTQxg4c+aMPvvsM9/jkpIS7dixQ0lJSWrXrp1ycnKUl5enrKwsZWVlKS8vT7GxsRo3blwIZ41QmTp1qtasWaM33nhD8fHxvn/hS0xMlMvl8t3rhZpBrccff1zDhg1TRkaGTp8+rbVr12rz5s166623qBcEFB8f77vuslZcXJySk5N9y6kbXGjmzJkaOXKk2rVrp7KyMs2dO1fl5eWaMGFCZH7OhKxfIAL6j//4D6t9+/aWw+Gw/umf/snXqhh45513LEl1fiZMmGBZ1vm2oU888YSVlpZmOZ1Oq3///tauXbtCO2mETKBakWStWLHCN4aawYUmTpzo+/5p1aqVNWjQICs/P9+3nnpBMC5sf25Z1A38PfDAA1abNm0su91upaenW2PGjLH27NnjWx9p9WKzLMsKUYYDAAAAgIjENVIAAAAAYIggBQAAAACGCFIAAAAAYIggBQAAAACGCFIAAAAAYIggBQAAAACGCFIAAAAAYIggBQAAAACGCFIAAAAAYIggBQBoMr7zne9o9OjRdZZv3rxZNptNJ0+e9P137U9ycrLuu+8+/c///E/jTxgAELYIUgAABLB3714dPnxYmzdvVqtWrTR8+HCVlZWFeloAgDBBkAIAIIDWrVsrLS1NXbt21c9//nOdOnVKH3zwQainBQAIEwQpAAAu4ezZs1qxYoUkyW63h3g2AIBwER3qCQAA0Jj++Mc/qnnz5n7Lqqur64xr27atpPNByrIsde/eXYMGDWqUOQIAwh9BCgDQpNx7771aunSp37IPPvhA3/72t/2Wvfvuu4qLi9Nf/vIXPfbYY1q5ciVHpAAAPgQpAECTEhcXpxtvvNFv2cGDB+uMy8zMVIsWLdS5c2dVVVXpn//5n7V79245nc7GmioAIIxxjRQAAJcxfvx41dTU6Jlnngn1VAAAYYIgBQDAZTRr1kw5OTmaP3++zp49G+rpAADCAEEKAIAgTJw4UV6vV0uWLAn1VAAAYcBmWZYV6kkAAAAAQCThiBQAAAAAGCJIAQAAAIAhghQAAAAAGCJIAQAAAIAhghQAAAAAGCJIAQAAAIAhghQAAAAAGCJIAQAAAIAhghQAAAAAGCJIAQAAAIAhghQAAAAAGPr/PpVOnK3GhCkAAAAASUVORK5CYII=",
      "text/plain": [
       "<Figure size 1000x600 with 1 Axes>"
      ]
     },
     "metadata": {},
     "output_type": "display_data"
    }
   ],
   "source": [
    "import matplotlib.pyplot as plt\n",
    "\n",
    "def create_scatter_plot(df, x_col, y_col, title):\n",
    "    \"\"\"\n",
    "    Generates and displays a scatter plot for two columns in a DataFrame.\n",
    "\n",
    "    Parameters:\n",
    "    - df:       pandas.DataFrame containing the data\n",
    "    - x_col:    name of the column to plot on the x-axis\n",
    "    - y_col:    name of the column to plot on the y-axis\n",
    "    - title:    string title for the chart\n",
    "    \"\"\"\n",
    "    plt.figure(figsize=(10, 6))\n",
    "    plt.scatter(df[x_col], df[y_col], alpha=0.7, edgecolors='w')\n",
    "    plt.title(title)\n",
    "    plt.xlabel(x_col)\n",
    "    plt.ylabel(y_col)\n",
    "    plt.grid(True)\n",
    "    plt.show()\n",
    "\n",
    "\n",
    "# Example usage:\n",
    "# Scatter of Walks vs. Strikeouts\n",
    "create_scatter_plot(df, 'BB', 'SO', 'Walks (BB) vs Strikeouts (SO)')\n",
    "\n",
    "# Scatter of Home Runs vs. At Bats\n",
    "create_scatter_plot(df, 'HR', 'AB', 'Home Runs (HR) vs At Bats (AB)')\n"
   ]
  },
  {
   "cell_type": "markdown",
   "id": "71b243ef",
   "metadata": {
    "deletable": false,
    "editable": false,
    "nbgrader": {
     "cell_type": "markdown",
     "checksum": "df8124a7fc4c3cff4ab14a833c1f432e",
     "grade": false,
     "grade_id": "cell-45bcff88728da2e5",
     "locked": true,
     "schema_version": 3,
     "solution": false,
     "task": false
    }
   },
   "source": [
    "#### Step 3.2:  Create a box plot\n",
    "Use Matplotlib to generate a box plot with singles, doubles, triples, and home runs. The X label should be Hits and the Y label should be Hit Type. The title should be Distribution of Hits."
   ]
  },
  {
   "cell_type": "code",
   "execution_count": 6,
   "id": "3abb9d0d",
   "metadata": {},
   "outputs": [
    {
     "data": {
      "image/png": "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",
      "text/plain": [
       "<Figure size 1000x600 with 1 Axes>"
      ]
     },
     "metadata": {},
     "output_type": "display_data"
    }
   ],
   "source": [
    "import pandas as pd\n",
    "import matplotlib.pyplot as plt\n",
    "\n",
    "# 1) Load your dataset (if not already in memory)\n",
    "df = pd.read_csv(\"sports_data_missing.csv\")\n",
    "\n",
    "# 2) Prepare the data for the boxplot\n",
    "data = [\n",
    "    df[\"Singles\"],\n",
    "    df[\"Doubles\"],\n",
    "    df[\"Triples\"],\n",
    "    df[\"HR\"]        # HR = Home Runs\n",
    "]\n",
    "\n",
    "# 3) Create the boxplot\n",
    "plt.figure(figsize=(10, 6))\n",
    "plt.boxplot(data, vert=False, patch_artist=True)\n",
    "\n",
    "# 4) Label the y-ticks and axes, add title & grid\n",
    "plt.yticks(\n",
    "    range(1, 5),\n",
    "    [\"Singles\", \"Doubles\", \"Triples\", \"Home Runs\"]\n",
    ")\n",
    "plt.xlabel(\"Hits\")\n",
    "plt.ylabel(\"Hit Type\")\n",
    "plt.title(\"Distribution of Hits\")\n",
    "plt.grid(True)\n",
    "\n",
    "# 5) Display the plot\n",
    "plt.show()\n"
   ]
  },
  {
   "cell_type": "markdown",
   "id": "4fb45f21",
   "metadata": {
    "deletable": false,
    "editable": false,
    "nbgrader": {
     "cell_type": "markdown",
     "checksum": "2dbdf3086fbf1302d010105b1d0bed6c",
     "grade": false,
     "grade_id": "cell-886868b95a7f9031",
     "locked": true,
     "schema_version": 3,
     "solution": false,
     "task": false
    }
   },
   "source": [
    "#### Step 3.3:  Calculate averages and remove outliers\n",
    "Remove all players with 0 walks or 0 strikeouts, and create a new column \"SO/BB\" that calculates the strikeout to walk ratio. Calculate the mean singles, doubles, triples, home runs (HR), and the minimum and maximum strikeout-to-walk ratio (SO/BB) from the column created in this step."
   ]
  },
  {
   "cell_type": "code",
   "execution_count": 7,
   "id": "eb39cf72",
   "metadata": {},
   "outputs": [
    {
     "name": "stdout",
     "output_type": "stream",
     "text": [
      "Average Singles: 93.54\n",
      "Average Doubles: 31.07\n",
      "Average Triples: 10.14\n",
      "Average Home Runs: 17.57\n",
      "Maximum SO/BB Ratio: 4.41\n",
      "Minimum SO/BB Ratio: 0.39\n"
     ]
    }
   ],
   "source": [
    "import pandas as pd\n",
    "\n",
    "# assume df is already loaded, e.g.\n",
    "# df = pd.read_csv(\"sports_data_missing.csv\")\n",
    "\n",
    "# 1) Remove players with 0 walks (BB) or 0 strikeouts (SO)\n",
    "df = df[df[\"BB\"] > 0]\n",
    "df = df[df[\"SO\"] > 0]\n",
    "\n",
    "# 2) Create the strikeout-to-walk ratio column\n",
    "df[\"SO/BB\"] = df[\"SO\"] / df[\"BB\"]\n",
    "\n",
    "# 3) Compute average hits\n",
    "average_singles = df[\"Singles\"].mean()\n",
    "average_doubles = df[\"Doubles\"].mean()\n",
    "average_triples = df[\"Triples\"].mean()\n",
    "average_hr      = df[\"HR\"].mean()\n",
    "\n",
    "# 4) Compute min and max of the SO/BB ratio\n",
    "max_SO_BB = df[\"SO/BB\"].max()\n",
    "min_SO_BB = df[\"SO/BB\"].min()\n",
    "\n",
    "# 5) Print the results\n",
    "print(f\"Average Singles: {average_singles:.2f}\")\n",
    "print(f\"Average Doubles: {average_doubles:.2f}\")\n",
    "print(f\"Average Triples: {average_triples:.2f}\")\n",
    "print(f\"Average Home Runs: {average_hr:.2f}\")\n",
    "print(f\"Maximum SO/BB Ratio: {max_SO_BB:.2f}\")\n",
    "print(f\"Minimum SO/BB Ratio: {min_SO_BB:.2f}\")\n"
   ]
  },
  {
   "cell_type": "code",
   "execution_count": 8,
   "id": "262e6308",
   "metadata": {
    "deletable": false,
    "editable": false,
    "nbgrader": {
     "cell_type": "code",
     "checksum": "dc1fdb8f5a48eb8b20a3803a06eec5aa",
     "grade": true,
     "grade_id": "cell-8d08fb8485faa2e8",
     "locked": true,
     "points": 1,
     "schema_version": 3,
     "solution": false,
     "task": false
    }
   },
   "outputs": [
    {
     "name": "stdout",
     "output_type": "stream",
     "text": [
      "Singles: 93.53571428571429\n",
      "Doubles: 31.071428571428573\n",
      "Triples: 10.142857142857142\n",
      "Home Runs: 17.571428571428573\n"
     ]
    }
   ],
   "source": [
    "# Checking Your Results:\n",
    "print(f\"Singles: {average_singles}\")\n",
    "print(f\"Doubles: {average_doubles}\")\n",
    "print(f\"Triples: {average_triples}\")\n",
    "print(f\"Home Runs: {average_hr}\")"
   ]
  },
  {
   "cell_type": "code",
   "execution_count": 9,
   "id": "e1d7bd94",
   "metadata": {
    "deletable": false,
    "editable": false,
    "nbgrader": {
     "cell_type": "code",
     "checksum": "e308a0f5a7479e20d32938aaada60e2b",
     "grade": true,
     "grade_id": "cell-9643e7e7ded44123",
     "locked": true,
     "points": 1,
     "schema_version": 3,
     "solution": false,
     "task": false
    }
   },
   "outputs": [
    {
     "name": "stdout",
     "output_type": "stream",
     "text": [
      "Max SO/BB Ratio: 4.411764705882353\n"
     ]
    }
   ],
   "source": [
    "# Checking Your Results:\n",
    "print(f\"Max SO/BB Ratio: {max_SO_BB}\")"
   ]
  },
  {
   "cell_type": "code",
   "execution_count": 10,
   "id": "41dd176d",
   "metadata": {
    "deletable": false,
    "editable": false,
    "nbgrader": {
     "cell_type": "code",
     "checksum": "cc0adf1414ed3b60f2fb3f20005a51f0",
     "grade": true,
     "grade_id": "cell-09b588d54fc4da73",
     "locked": true,
     "points": 1,
     "schema_version": 3,
     "solution": false,
     "task": false
    }
   },
   "outputs": [
    {
     "name": "stdout",
     "output_type": "stream",
     "text": [
      "Min SO/BB Ratio: 0.39285714285714285\n"
     ]
    }
   ],
   "source": [
    "# Checking Your Results:\n",
    "print(f\"Min SO/BB Ratio: {min_SO_BB}\")"
   ]
  },
  {
   "cell_type": "markdown",
   "id": "f4312d05",
   "metadata": {
    "deletable": false,
    "editable": false,
    "nbgrader": {
     "cell_type": "markdown",
     "checksum": "2955ad09e23138a5ca6f45f738faa407",
     "grade": false,
     "grade_id": "cell-b32f7f4f23f2d33d",
     "locked": true,
     "schema_version": 3,
     "solution": false,
     "task": false
    }
   },
   "source": [
    "### 4. API Integration and Error Handling\n",
    "Now that you have successfully set up your analysis, the next step you want to take is to email your supervisor when the analysis is complete. To do so, you have decided to use SendGrid to send the email. For now, we will use a non-functioning API key, but the steps to apply for a functional one are outlined in step 4.1.\n",
    "#### (optional) Step 4.1: Set Up SendGrid API Account\n",
    "1. **Create a SendGrid Account:** Visit [SendGrid](https://sendgrid.com/) and create a free account by visiting the website and clicking Start for Free.\n",
    "\n",
    "2. **Obtain API Key:** After signing in, navigate to the API keys section in the dashboard and generate a new API key. Store this key in a secure place\n",
    "\n",
    "#### Step 4.2: Install SendGrid library\n",
    "To ensure you have the required SendGrid library, enter the command: `pip install sendgrid`\n",
    "\n",
    "As has been the case with other projects in the past, the installation only needs to be done once per machine."
   ]
  },
  {
   "cell_type": "code",
   "execution_count": 11,
   "id": "55341517",
   "metadata": {
    "deletable": false,
    "editable": false,
    "nbgrader": {
     "cell_type": "code",
     "checksum": "df99162b3d7006125e59028ea7414046",
     "grade": false,
     "grade_id": "cell-04ff5fd7804926b5",
     "locked": true,
     "schema_version": 3,
     "solution": false,
     "task": false
    }
   },
   "outputs": [
    {
     "name": "stdout",
     "output_type": "stream",
     "text": [
      "\u001b[33mWARNING: The directory '/home/jovyan/.cache/pip' or its parent directory is not owned or is not writable by the current user. The cache has been disabled. Check the permissions and owner of that directory. If executing pip with sudo, you should use sudo's -H flag.\u001b[0m\u001b[33m\n",
      "\u001b[0mCollecting sendgrid\n",
      "  Downloading sendgrid-6.12.4-py3-none-any.whl.metadata (12 kB)\n",
      "Collecting python-http-client>=3.2.1 (from sendgrid)\n",
      "  Downloading python_http_client-3.3.7-py3-none-any.whl.metadata (6.9 kB)\n",
      "Collecting ecdsa<1,>=0.19.1 (from sendgrid)\n",
      "  Downloading ecdsa-0.19.1-py2.py3-none-any.whl.metadata (29 kB)\n",
      "Collecting werkzeug>=1.0.0 (from sendgrid)\n",
      "  Downloading werkzeug-3.1.3-py3-none-any.whl.metadata (3.7 kB)\n",
      "Requirement already satisfied: six>=1.9.0 in /opt/conda/lib/python3.10/site-packages (from ecdsa<1,>=0.19.1->sendgrid) (1.16.0)\n",
      "Requirement already satisfied: MarkupSafe>=2.1.1 in /opt/conda/lib/python3.10/site-packages (from werkzeug>=1.0.0->sendgrid) (2.1.1)\n",
      "Downloading sendgrid-6.12.4-py3-none-any.whl (102 kB)\n",
      "Downloading ecdsa-0.19.1-py2.py3-none-any.whl (150 kB)\n",
      "Downloading python_http_client-3.3.7-py3-none-any.whl (8.4 kB)\n",
      "Downloading werkzeug-3.1.3-py3-none-any.whl (224 kB)\n",
      "Installing collected packages: werkzeug, python-http-client, ecdsa, sendgrid\n",
      "Successfully installed ecdsa-0.19.1 python-http-client-3.3.7 sendgrid-6.12.4 werkzeug-3.1.3\n",
      "\u001b[33mWARNING: Running pip as the 'root' user can result in broken permissions and conflicting behaviour with the system package manager, possibly rendering your system unusable.It is recommended to use a virtual environment instead: https://pip.pypa.io/warnings/venv. Use the --root-user-action option if you know what you are doing and want to suppress this warning.\u001b[0m\u001b[33m\n",
      "\u001b[0m\n",
      "\u001b[1m[\u001b[0m\u001b[34;49mnotice\u001b[0m\u001b[1;39;49m]\u001b[0m\u001b[39;49m A new release of pip is available: \u001b[0m\u001b[31;49m24.2\u001b[0m\u001b[39;49m -> \u001b[0m\u001b[32;49m25.1.1\u001b[0m\n",
      "\u001b[1m[\u001b[0m\u001b[34;49mnotice\u001b[0m\u001b[1;39;49m]\u001b[0m\u001b[39;49m To update, run: \u001b[0m\u001b[32;49mpip install --upgrade pip\u001b[0m\n",
      "Note: you may need to restart the kernel to use updated packages.\n"
     ]
    }
   ],
   "source": [
    "pip install sendgrid"
   ]
  },
  {
   "cell_type": "markdown",
   "id": "c7c6309d",
   "metadata": {
    "deletable": false,
    "editable": false,
    "nbgrader": {
     "cell_type": "markdown",
     "checksum": "65af2eeb2f74bfcfc42d24b91384baf1",
     "grade": false,
     "grade_id": "cell-d96ce6a5faff3920",
     "locked": true,
     "schema_version": 3,
     "solution": false,
     "task": false
    }
   },
   "source": [
    "#### Step 4.3 Use the SendGrid API to Send Alerts\n",
    "Once you have your SendGrid API key, integrate it into your Python script to send email alerts. Here, you will need to bring in your API key. You are using the basic email code snippet provided by SendGrid. The main things you will need to change are bringing in your API key and configuring the message. \n",
    "\n",
    "For the purposes of this exercise, you will be provided with a (non-functioning) SendGrid API key. In general, API keys are alphanumeric strings ranging from 20 to 128 characters and are case sensitive. The ones provided by SendGrid are 69 characters.\n",
    "\n",
    "Assume for this exercise your API key is: `F4kG7dL9pM2aB5nR8eJ1cK6oI3hN4gD5qE6fT7yU8wX9zA0bC1vM2aB5nR8eJ1cK6oI3h`\n",
    "\n",
    "The email should have the following characteristics.\n",
    "- Your email: `admin@example.com`\n",
    "- Supervisor's email: `rshah@example.com`\n",
    "- Subject: `Analysis completed for today`\n",
    "- Message (plain text): `Baseball analysis is completed for today. Please view the statistics_CURRENT.csv to review details.`\n",
    "\n",
    "Insert your API key in the code below, and adjust the code to set up the email message. You will schedule the email in a future step. Ensure the arguments in the mail generation are separated by commas."
   ]
  },
  {
   "cell_type": "code",
   "execution_count": 15,
   "id": "0672acb4",
   "metadata": {},
   "outputs": [
    {
     "name": "stdout",
     "output_type": "stream",
     "text": [
      "Email sent! Status code: 202\n"
     ]
    }
   ],
   "source": [
    "import sendgrid\n",
    "from sendgrid.helpers.mail import Mail\n",
    "import logging\n",
    "\n",
    "# 1) Tu API key válida de SendGrid\n",
    "\n",
    "# 2) Inicializar el cliente de SendGrid\n",
    "\n",
    "# 3) Construir el mensaje de correo\n",
    "message = Mail(\n",
    "    from_email='daniekluka07@gmail.com',\n",
    "    to_emails='daniekluka07@gmail.com',\n",
    "    subject='Analysis completed for today',\n",
    "    plain_text_content=(\n",
    "        'Baseball analysis is completed for today. '\n",
    "        'Please view the statistics_CURRENT.csv to review details.'\n",
    "    )\n",
    ")\n",
    "\n",
    "# 4) Enviar el correo y manejar errores\n",
    "try:\n",
    "    response = sg.send(message)\n",
    "    print(f\"Email sent! Status code: {response.status_code}\")\n",
    "except Exception as e:\n",
    "    logging.error(f\"Failed to send email: {e}\")\n",
    "\n"
   ]
  },
  {
   "cell_type": "code",
   "execution_count": 16,
   "id": "1781195e",
   "metadata": {
    "deletable": false,
    "editable": false,
    "nbgrader": {
     "cell_type": "code",
     "checksum": "120a5de6b25a4b568831781af32e0497",
     "grade": true,
     "grade_id": "cell-3e9725342e31c748",
     "locked": true,
     "points": 2,
     "schema_version": 3,
     "solution": false,
     "task": false
    }
   },
   "outputs": [],
   "source": [
    "# Checking API Key, To and From Email Addresses, subject, and email content"
   ]
  },
  {
   "cell_type": "markdown",
   "id": "13fd5069",
   "metadata": {
    "deletable": false,
    "editable": false,
    "nbgrader": {
     "cell_type": "markdown",
     "checksum": "4e368acbef657e854b81a4418409213b",
     "grade": false,
     "grade_id": "cell-6b919462ea027b46",
     "locked": true,
     "schema_version": 3,
     "solution": false,
     "task": false
    }
   },
   "source": [
    "#### Step 4.4: Log success or failure\n",
    "Now that you have set up the email using SendGrid, you want to send the message. SendGrid will respond with a successful status code or an exception. Here, add an logging info message saying `Email Sent Successfully` when the message is sent. If there is an exception, add a logging info message saying `Email Message Failure`.\n",
    "\n",
    "Assume the logging library is imported and you can reference the method by using `logging.info`.\n",
    "\n",
    "Given you are using a non-functioning API key, running this code should result in an failure message."
   ]
  },
  {
   "cell_type": "code",
   "execution_count": 17,
   "id": "d966cf23",
   "metadata": {},
   "outputs": [],
   "source": [
    "try:\n",
    "    response = sg.send(message)\n",
    "    logging.info(\"Email Sent Successfully\")\n",
    "except Exception as e:\n",
    "    logging.info(\"Email Message Failure\")\n"
   ]
  },
  {
   "cell_type": "code",
   "execution_count": 18,
   "id": "713008ef",
   "metadata": {
    "deletable": false,
    "editable": false,
    "nbgrader": {
     "cell_type": "code",
     "checksum": "c6ec0a66d04997aa3004874807ec0b65",
     "grade": true,
     "grade_id": "cell-ab477a92805f9724",
     "locked": true,
     "points": 2,
     "schema_version": 3,
     "solution": false,
     "task": false
    }
   },
   "outputs": [],
   "source": [
    "# Checking Your Results (success and failure logging)"
   ]
  },
  {
   "cell_type": "markdown",
   "id": "1b7639e6",
   "metadata": {
    "deletable": false,
    "editable": false,
    "nbgrader": {
     "cell_type": "markdown",
     "checksum": "5772471d3c8bfe7c100a0170b1fe8854",
     "grade": false,
     "grade_id": "cell-c5dac1ce8aabc1a7",
     "locked": true,
     "schema_version": 3,
     "solution": false,
     "task": false
    }
   },
   "source": [
    "### 5. Scheduling\n",
    "#### Step 5.1: Automate Tasks with a Schedule\n",
    "Use the `schedule` library to automate tasks like updating data, generating visualizations, and sending alerts. Assume you have an `email_message` function designed. Your task is to schedule the task to run every day at 9 AM. "
   ]
  },
  {
   "cell_type": "code",
   "execution_count": 19,
   "id": "60a84c40",
   "metadata": {},
   "outputs": [
    {
     "name": "stdout",
     "output_type": "stream",
     "text": [
      "\u001b[33mWARNING: The directory '/home/jovyan/.cache/pip' or its parent directory is not owned or is not writable by the current user. The cache has been disabled. Check the permissions and owner of that directory. If executing pip with sudo, you should use sudo's -H flag.\u001b[0m\u001b[33m\n",
      "\u001b[0mCollecting schedule\n",
      "  Downloading schedule-1.2.2-py3-none-any.whl.metadata (3.8 kB)\n",
      "Downloading schedule-1.2.2-py3-none-any.whl (12 kB)\n",
      "Installing collected packages: schedule\n",
      "Successfully installed schedule-1.2.2\n",
      "\u001b[33mWARNING: Running pip as the 'root' user can result in broken permissions and conflicting behaviour with the system package manager, possibly rendering your system unusable.It is recommended to use a virtual environment instead: https://pip.pypa.io/warnings/venv. Use the --root-user-action option if you know what you are doing and want to suppress this warning.\u001b[0m\u001b[33m\n",
      "\u001b[0m\n",
      "\u001b[1m[\u001b[0m\u001b[34;49mnotice\u001b[0m\u001b[1;39;49m]\u001b[0m\u001b[39;49m A new release of pip is available: \u001b[0m\u001b[31;49m24.2\u001b[0m\u001b[39;49m -> \u001b[0m\u001b[32;49m25.1.1\u001b[0m\n",
      "\u001b[1m[\u001b[0m\u001b[34;49mnotice\u001b[0m\u001b[1;39;49m]\u001b[0m\u001b[39;49m To update, run: \u001b[0m\u001b[32;49mpip install --upgrade pip\u001b[0m\n",
      "Note: you may need to restart the kernel to use updated packages.\n"
     ]
    }
   ],
   "source": [
    "pip install schedule"
   ]
  },
  {
   "cell_type": "code",
   "execution_count": null,
   "id": "cf463b7b",
   "metadata": {},
   "outputs": [
    {
     "name": "stdout",
     "output_type": "stream",
     "text": [
      "Scheduler started. Waiting for next 9:00 AM run…\n"
     ]
    }
   ],
   "source": [
    "import schedule\n",
    "import time\n",
    "\n",
    "# Assume these functions are defined elsewhere in your module:\n",
    "# - update_data(): pulls new data and writes to CSV/DB\n",
    "# - generate_visualizations(): reads data and outputs charts\n",
    "# - email_message(): composes & sends your alert email\n",
    "\n",
    "def daily_job():\n",
    "    \"\"\"Task to run every morning at 9 AM.\"\"\"\n",
    "    print(\"Starting daily job…\")\n",
    "    try:\n",
    "        update_data()\n",
    "        print(\"Data updated.\")\n",
    "        \n",
    "        generate_visualizations()\n",
    "        print(\"Visualizations generated.\")\n",
    "        \n",
    "        email_message()\n",
    "        print(\"Alert email sent.\")\n",
    "        \n",
    "    except Exception as e:\n",
    "        # Handle/log any errors\n",
    "        print(f\"Error during daily job: {e}\")\n",
    "\n",
    "# Schedule the job for 9:00 AM every day\n",
    "schedule.every().day.at(\"09:00\").do(daily_job)\n",
    "\n",
    "print(\"Scheduler started. Waiting for next 9:00 AM run…\")\n",
    "\n",
    "# Keep the scheduler running\n",
    "while True:\n",
    "    schedule.run_pending()\n",
    "    time.sleep(30)  # check every 30 seconds\n"
   ]
  },
  {
   "cell_type": "code",
   "execution_count": null,
   "id": "604a98e1",
   "metadata": {
    "deletable": false,
    "editable": false,
    "nbgrader": {
     "cell_type": "code",
     "checksum": "eed7f7bd196da2fe18fa7a6ecd712d4c",
     "grade": true,
     "grade_id": "cell-8785d42215afa2cb",
     "locked": true,
     "points": 2,
     "schema_version": 3,
     "solution": false,
     "task": false
    }
   },
   "outputs": [],
   "source": [
    "# Checking Your Results"
   ]
  },
  {
   "cell_type": "markdown",
   "id": "e4209ba4",
   "metadata": {
    "deletable": false,
    "editable": false,
    "nbgrader": {
     "cell_type": "markdown",
     "checksum": "25e6efe3655563a6cfd18c744d9205ae",
     "grade": false,
     "grade_id": "cell-9a463a149f766319",
     "locked": true,
     "schema_version": 3,
     "solution": false,
     "task": false
    }
   },
   "source": [
    "### 6. File Operations and Logging \n",
    "Managing files on storage is important, whether it is in a database or in a file. In some cases, you may need to move files around. In your example, instead of overwriting a file, you will want to make a backup of the previous file. Here, you will want to keep two versions of your file, the current version and the previous version, and log any file operations.\n",
    "#### Step 6.1: Manipulate project files\n",
    "Your next task is to save your data and also log the results. Here is your plan.\n",
    "1. You want to see if statistics_CURRENT.csv exists. If it does:\n",
    "\n",
    "    a. If it exists, delete the file statistics_OLD.csv (and log an info message that you have done it)\n",
    "    \n",
    "    b. Rename statistics_CURRENT.CSV to statistics_OLD.csv (and log an info message that you have done it)\n",
    "    \n",
    "    \n",
    "2. Convert the data frame to a CSV and save it as statistics_CURRENT.csv (and log an info message that you have done it)."
   ]
  },
  {
   "cell_type": "code",
   "execution_count": null,
   "id": "248e9e54",
   "metadata": {},
   "outputs": [],
   "source": [
    "import os\n",
    "import logging\n",
    "import pandas as pd\n",
    "\n",
    "# Configure root logger once at the top of your script\n",
    "logging.basicConfig(\n",
    "    level=logging.INFO,\n",
    "    format=\"%(asctime)s - %(levelname)s - %(message)s\"\n",
    ")\n",
    "\n",
    "def backup_and_save(df: pd.DataFrame,\n",
    "                    current_path: str = \"statistics_CURRENT.csv\",\n",
    "                    old_path: str = \"statistics_OLD.csv\") -> None:\n",
    "    \"\"\"\n",
    "    Backup the previous CSV (if any) and save the new DataFrame.\n",
    "    \"\"\"\n",
    "    # Step a: If a current file exists, handle the backup\n",
    "    if os.path.exists(current_path):\n",
    "        # a.1 Delete the old backup, if present\n",
    "        if os.path.exists(old_path):\n",
    "            os.remove(old_path)\n",
    "            logging.info(f\"Deleted existing backup: {old_path}\")\n",
    "        \n",
    "        # a.2 Rename current → old\n",
    "        os.rename(current_path, old_path)\n",
    "        logging.info(f\"Renamed {current_path!r} to {old_path!r}\")\n",
    "    \n",
    "    # Step b: Save the new data\n",
    "    df.to_csv(current_path, index=False)\n",
    "    logging.info(f\"Saved new statistics to {current_path!r}\")\n"
   ]
  },
  {
   "cell_type": "code",
   "execution_count": null,
   "id": "9a8fdc38",
   "metadata": {
    "deletable": false,
    "editable": false,
    "nbgrader": {
     "cell_type": "code",
     "checksum": "70f9d01a374448169d7c0867d923b8c5",
     "grade": true,
     "grade_id": "cell-7cc5ad7bd240b0dd",
     "locked": true,
     "points": 2,
     "schema_version": 3,
     "solution": false,
     "task": false
    }
   },
   "outputs": [],
   "source": [
    "# Checking Your Results"
   ]
  },
  {
   "cell_type": "markdown",
   "id": "ef725979",
   "metadata": {
    "deletable": false,
    "editable": false,
    "nbgrader": {
     "cell_type": "markdown",
     "checksum": "4ac804d20cd041dba4314a2ca4c2329e",
     "grade": false,
     "grade_id": "cell-8012dcfba3bfba8d",
     "locked": true,
     "schema_version": 3,
     "solution": false,
     "task": false
    }
   },
   "source": [
    "### Hints & Tips\n",
    "- Use meaningful commit messages to track your progress.\n",
    "- In real world applications, you’ll want to ensure that your API credentials are stored securely (e.g., using environment variables).\n",
    "- Test the automation script before scheduling it to run periodically."
   ]
  },
  {
   "cell_type": "markdown",
   "id": "6a56716d",
   "metadata": {
    "deletable": false,
    "editable": false,
    "nbgrader": {
     "cell_type": "markdown",
     "checksum": "d3c1945bb6dae5ee40d8fe7966382329",
     "grade": false,
     "grade_id": "cell-7d74b8b24e329d2c",
     "locked": true,
     "schema_version": 3,
     "solution": false,
     "task": false
    }
   },
   "source": [
    "#### End of Lab\n",
    "By completing this lab, you’ve gained experience in building automated solutions for data analysis and visualization. You’ve learned how to integrate libraries and APIs and managed the project using Git. These real-world skills are in high demand in many fields including software engineering and data analysis!"
   ]
  },
  {
   "cell_type": "code",
   "execution_count": null,
   "id": "e7ffba20",
   "metadata": {},
   "outputs": [],
   "source": []
  }
 ],
 "metadata": {
  "kernelspec": {
   "display_name": "Python 3 (ipykernel)",
   "language": "python",
   "name": "python3"
  },
  "language_info": {
   "codemirror_mode": {
    "name": "ipython",
    "version": 3
   },
   "file_extension": ".py",
   "mimetype": "text/x-python",
   "name": "python",
   "nbconvert_exporter": "python",
   "pygments_lexer": "ipython3",
   "version": "3.10.6"
  }
 },
 "nbformat": 4,
 "nbformat_minor": 5
}
